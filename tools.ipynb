{
 "cells": [
  {
   "cell_type": "code",
   "execution_count": 3,
   "metadata": {},
   "outputs": [],
   "source": [
    "from bs4 import BeautifulSoup\n",
    "import urllib.parse\n",
    "import urllib.request\n",
    "import re\n",
    "import string\n",
    "url = \"https://www.allrecipes.com/recipe/45933/creamy-cajun-shrimp-pasta\"\n",
    "req = urllib.request.Request(url)\n",
    "req.add_header('Cookie', 'euConsent=true')\n",
    "\n",
    "html_content = urllib.request.urlopen(req).read()\n",
    "soup = BeautifulSoup(html_content, 'html.parser')\n",
    "direction_pattern = re.compile(r'<span class=\"recipe-directions__list--item\">(?:(?!<span class=\"recipe-directions__list--item\">|<\\/span>)[\\s\\S])*<\\/span>')\n",
    "\n",
    "#ingredients = re.findall(ingredient_pattern, 'itemprop=\"recipeIngredient\">1/4 cup chicken broth</span>')\n",
    "direction = re.findall(direction_pattern, str(soup))"
   ]
  },
  {
   "cell_type": "code",
   "execution_count": 5,
   "metadata": {},
   "outputs": [],
   "source": [
    "data = {\n",
    "    \"Title\": 0,\n",
    "    \"Ingredients\":{\n",
    "        \"Ingredient name\": 0,\n",
    "        \"Quantity\": 0,\n",
    "        \"Measurement\": 0,\n",
    "        \"Descriptor\": 0,\n",
    "        \"Preparation0\": 0\n",
    "    },\n",
    "    \"Tools\": [],\n",
    "    \"Methods\": {\n",
    "        \"Primary\": [],\n",
    "        \"Other\": []\n",
    "    },\n",
    "    \"Steps\":{\n",
    "        1: {\"Ingredients\":[], \"Tools\": [], \"Methods\":[]},\n",
    "    }\n",
    "}"
   ]
  },
  {
   "cell_type": "code",
   "execution_count": 4,
   "metadata": {},
   "outputs": [
    {
     "data": {
      "text/plain": [
       "['<span class=\"recipe-directions__list--item\">Bring a large pot of lightly salted water to a boil. Add pasta and cook for 4 minutes or until al dente; drain.\\n                            </span>',\n",
       " '<span class=\"recipe-directions__list--item\">Melt butter in a large heavy skillet over medium heat. Saute shrimp for 1 minute on each side. Stir in garlic, and cook for 1 minute. Remove shrimp with a slotted spoon; set aside. Stir in flour and Cajun seasoning. Cook, stirring for 5 minutes. Gradually whisk in milk, then cook until thickened. Remove from heat, and season with salt and lemon juice. Return shrimp to sauce, and spoon over cooked pasta.\\n                            </span>']"
      ]
     },
     "execution_count": 4,
     "metadata": {},
     "output_type": "execute_result"
    }
   ],
   "source": [
    "direction"
   ]
  },
  {
   "cell_type": "code",
   "execution_count": 80,
   "metadata": {},
   "outputs": [],
   "source": [
    "from cooktool import COOK_TOOL\n",
    "from methods import METHODS"
   ]
  },
  {
   "cell_type": "code",
   "execution_count": 64,
   "metadata": {},
   "outputs": [],
   "source": [
    "recipe = dict()"
   ]
  },
  {
   "cell_type": "code",
   "execution_count": 78,
   "metadata": {},
   "outputs": [],
   "source": [
    "direction_list = []\n",
    "rough_direction_list = []\n",
    "for item in direction:\n",
    "    item_tmp1 = re.split(\"<span class=\\\"recipe-directions__list--item\\\">\", item)\n",
    "    item_tmp2 = re.split(\"\\n\", item_tmp1[1])\n",
    "    item_tmp3_list = re.split(r'\\.|;',item_tmp2[0].lower())\n",
    "    #rough_direction_list.append(item_tmp2[0].translate(str.maketrans('', '', string.punctuation)).lower())\n",
    "    for subitem in item_tmp3_list:\n",
    "        if subitem != '':\n",
    "            direction_list.append(subitem.translate(str.maketrans('', '', string.punctuation)))"
   ]
  },
  {
   "cell_type": "code",
   "execution_count": 79,
   "metadata": {},
   "outputs": [
    {
     "data": {
      "text/plain": [
       "['bring a large pot of lightly salted water to a boil',\n",
       " ' add pasta and cook for 4 minutes or until al dente',\n",
       " ' drain',\n",
       " 'melt butter in a large heavy skillet over medium heat',\n",
       " ' saute shrimp for 1 minute on each side',\n",
       " ' stir in garlic and cook for 1 minute',\n",
       " ' remove shrimp with a slotted spoon',\n",
       " ' set aside',\n",
       " ' stir in flour and cajun seasoning',\n",
       " ' cook stirring for 5 minutes',\n",
       " ' gradually whisk in milk then cook until thickened',\n",
       " ' remove from heat and season with salt and lemon juice',\n",
       " ' return shrimp to sauce and spoon over cooked pasta']"
      ]
     },
     "execution_count": 79,
     "metadata": {},
     "output_type": "execute_result"
    }
   ],
   "source": [
    "direction_list"
   ]
  },
  {
   "cell_type": "code",
   "execution_count": 115,
   "metadata": {},
   "outputs": [],
   "source": [
    "TIME_WORD = {\n",
    "    'hours': [re.compile(r'(about )?\\d+ h(ou)?rs?($|\\W)'), re.compile(r'\\d+ to \\d+ h(ou)?rs?($|\\W)')],\n",
    "    'minutes': [re.compile(r'(about )?\\d+ min(ute)?s?($|\\W)'), re.compile(r'\\d+ to \\d+ min(ute)?s?($|\\W)')],\n",
    "    'seconds': [re.compile(r'(about )?\\d+ sec(ond)?s?($|\\W)'), re.compile(r'\\d+ to \\d+ sec(ond)?s?($|\\W)')]\n",
    "}"
   ]
  },
  {
   "cell_type": "code",
   "execution_count": 129,
   "metadata": {},
   "outputs": [],
   "source": [
    "recipe['methods'] = {}\n",
    "recipe['methods']['primary'] = []\n",
    "recipe['methods']['other'] = []\n",
    "recipe['tools'] = []\n",
    "recipe['steps'] = {}\n",
    "count = 1\n",
    "for item in direction_list:\n",
    "    recipe['steps'][count] = dict()\n",
    "    recipe['steps'][count]['methods'] = dict()\n",
    "    recipe['steps'][count]['methods']['primary'] = []\n",
    "    recipe['steps'][count]['methods']['other'] = []\n",
    "    recipe['steps'][count]['tools'] = []\n",
    "    recipe['steps'][count]['time'] = []\n",
    "    \n",
    "    for check_word in COOK_TOOL:\n",
    "        if len(re.findall(COOK_TOOL[check_word], item))> 0:\n",
    "            if check_word not in recipe['tools']:\n",
    "                recipe['tools'].append(check_word)\n",
    "            if check_word not in recipe['steps'][count]['tools']:\n",
    "                recipe['steps'][count]['tools'].append(check_word)\n",
    "            \n",
    "    for check_word in METHODS['primary']:\n",
    "        if check_word in item:\n",
    "            if check_word not in recipe['methods']['primary']:\n",
    "                recipe['methods']['primary'].append(check_word)\n",
    "            if check_word not in recipe['steps'][count]['methods']['primary']:\n",
    "                recipe['steps'][count]['methods']['primary'].append(check_word)\n",
    "        elif check_word == 'sauté' and 'saute' in item:\n",
    "            if check_word not in recipe['methods']['primary']:\n",
    "                recipe['methods']['primary'].append(check_word)\n",
    "            if check_word not in recipe['steps'][count]['methods']['primary']:\n",
    "                recipe['steps'][count]['methods']['primary'].append(check_word)               \n",
    "                \n",
    "    for check_word in METHODS['other']:\n",
    "        if check_word in item:\n",
    "            if check_word not in recipe['methods']['other']:\n",
    "                recipe['methods']['other'].append(check_word) \n",
    "            if check_word not in recipe['steps'][count]['methods']['other']:\n",
    "                recipe['steps'][count]['methods']['other'].append(check_word)\n",
    "    \n",
    "    for check_type in TIME_WORD:\n",
    "        for check_pattern in TIME_WORD[check_type]:\n",
    "            search_res = re.search(check_pattern, item)\n",
    "            if search_res:\n",
    "                recipe['steps'][count]['time'].append(search_res.group(0))\n",
    "    count += 1"
   ]
  },
  {
   "cell_type": "code",
   "execution_count": 130,
   "metadata": {
    "scrolled": true
   },
   "outputs": [
    {
     "data": {
      "text/plain": [
       "{1: {'methods': {'primary': ['boil'], 'other': []},\n",
       "  'tools': ['pot'],\n",
       "  'time': []},\n",
       " 2: {'methods': {'primary': [], 'other': []},\n",
       "  'tools': [],\n",
       "  'time': ['4 minutes ']},\n",
       " 3: {'methods': {'primary': [], 'other': ['drain']}, 'tools': [], 'time': []},\n",
       " 4: {'methods': {'primary': [], 'other': ['melt', 'heat']},\n",
       "  'tools': ['skillet'],\n",
       "  'time': []},\n",
       " 5: {'methods': {'primary': ['sauté'], 'other': []},\n",
       "  'tools': [],\n",
       "  'time': ['1 minute ']},\n",
       " 6: {'methods': {'primary': [], 'other': ['stir']},\n",
       "  'tools': [],\n",
       "  'time': ['1 minute']},\n",
       " 7: {'methods': {'primary': [], 'other': []}, 'tools': ['spoon'], 'time': []},\n",
       " 8: {'methods': {'primary': [], 'other': []}, 'tools': [], 'time': []},\n",
       " 9: {'methods': {'primary': [], 'other': ['stir', 'season']},\n",
       "  'tools': [],\n",
       "  'time': []},\n",
       " 10: {'methods': {'primary': [], 'other': ['stir']},\n",
       "  'tools': [],\n",
       "  'time': ['5 minutes']},\n",
       " 11: {'methods': {'primary': [], 'other': ['whisk']},\n",
       "  'tools': ['whisk'],\n",
       "  'time': []},\n",
       " 12: {'methods': {'primary': [], 'other': ['season', 'heat']},\n",
       "  'tools': [],\n",
       "  'time': []},\n",
       " 13: {'methods': {'primary': [], 'other': []}, 'tools': ['spoon'], 'time': []}}"
      ]
     },
     "execution_count": 130,
     "metadata": {},
     "output_type": "execute_result"
    }
   ],
   "source": [
    "recipe['steps']"
   ]
  },
  {
   "cell_type": "code",
   "execution_count": null,
   "metadata": {},
   "outputs": [],
   "source": []
  }
 ],
 "metadata": {
  "kernelspec": {
   "display_name": "Python 3",
   "language": "python",
   "name": "python3"
  },
  "language_info": {
   "codemirror_mode": {
    "name": "ipython",
    "version": 3
   },
   "file_extension": ".py",
   "mimetype": "text/x-python",
   "name": "python",
   "nbconvert_exporter": "python",
   "pygments_lexer": "ipython3",
   "version": "3.6.7"
  }
 },
 "nbformat": 4,
 "nbformat_minor": 2
}
