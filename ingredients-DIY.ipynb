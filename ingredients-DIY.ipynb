{
 "cells": [
  {
   "cell_type": "code",
   "execution_count": 1,
   "metadata": {},
   "outputs": [],
   "source": [
    "from bs4 import BeautifulSoup\n",
    "import urllib.parse\n",
    "import urllib.request\n",
    "import re\n",
    "#url = \"https://www.allrecipes.com/recipe/53729/fish-tacos/\"\n",
    "#url = \"https://www.allrecipes.com/recipe/15925/creamy-au-gratin-potatoes/\"\n",
    "#url = \"https://www.allrecipes.com/recipe/277943/slow-cooker-loaded-potato-soup/\"\n",
    "url = \"https://www.allrecipes.com/recipe/273326/parmesan-crusted-shrimp-scampi-with-pasta/\"\n",
    "#url = \"https://www.allrecipes.com/recipe/277917/slow-cooker-cheesy-cauliflower-casserole/\"\n",
    "req = urllib.request.Request(url)\n",
    "req.add_header('Cookie', 'euConsent=true')\n",
    "\n",
    "html_content = urllib.request.urlopen(req).read()\n",
    "soup = BeautifulSoup(html_content, 'html.parser')"
   ]
  },
  {
   "cell_type": "code",
   "execution_count": 2,
   "metadata": {},
   "outputs": [],
   "source": [
    "ingredient_pattern = re.compile(r'itemprop=\"recipeIngredient\">(?:(?!itemprop=\"recipeIngredient\">|<\\/span>)[\\s\\S])*<\\/span>')\n",
    "\n",
    "#ingredients = re.findall(ingredient_pattern, 'itemprop=\"recipeIngredient\">1/4 cup chicken broth</span>')\n",
    "ingredients = re.findall(ingredient_pattern, str(soup))"
   ]
  },
  {
   "cell_type": "code",
   "execution_count": 3,
   "metadata": {},
   "outputs": [
    {
     "data": {
      "text/plain": [
       "['itemprop=\"recipeIngredient\">2 cups angel hair pasta</span>',\n",
       " 'itemprop=\"recipeIngredient\">1/2 cup butter, divided</span>',\n",
       " 'itemprop=\"recipeIngredient\">4 cloves garlic, minced</span>',\n",
       " 'itemprop=\"recipeIngredient\">1 pound uncooked medium shrimp, peeled and deveined</span>',\n",
       " 'itemprop=\"recipeIngredient\">1/2 cup white cooking wine</span>',\n",
       " 'itemprop=\"recipeIngredient\">1 lemon, juiced</span>',\n",
       " 'itemprop=\"recipeIngredient\">1 teaspoon red pepper flakes</span>',\n",
       " 'itemprop=\"recipeIngredient\">3/4 cup seasoned bread crumbs</span>',\n",
       " 'itemprop=\"recipeIngredient\">3/4 cup freshly grated Parmesan cheese, divided</span>',\n",
       " 'itemprop=\"recipeIngredient\">2 tablespoons finely chopped fresh parsley</span>']"
      ]
     },
     "execution_count": 3,
     "metadata": {},
     "output_type": "execute_result"
    }
   ],
   "source": [
    "ingredients"
   ]
  },
  {
   "cell_type": "code",
   "execution_count": null,
   "metadata": {},
   "outputs": [],
   "source": []
  },
  {
   "cell_type": "code",
   "execution_count": 4,
   "metadata": {},
   "outputs": [
    {
     "data": {
      "text/plain": [
       "10"
      ]
     },
     "execution_count": 4,
     "metadata": {},
     "output_type": "execute_result"
    }
   ],
   "source": [
    "len(ingredients)"
   ]
  },
  {
   "cell_type": "code",
   "execution_count": 5,
   "metadata": {},
   "outputs": [
    {
     "name": "stdout",
     "output_type": "stream",
     "text": [
      "itemprop=\"recipeIngredient\">2 cups angel hair pasta</span>\n",
      "itemprop=\"recipeIngredient\">1/2 cup butter, divided</span>\n",
      "itemprop=\"recipeIngredient\">4 cloves garlic, minced</span>\n",
      "itemprop=\"recipeIngredient\">1 pound uncooked medium shrimp, peeled and deveined</span>\n",
      "itemprop=\"recipeIngredient\">1/2 cup white cooking wine</span>\n",
      "itemprop=\"recipeIngredient\">1 lemon, juiced</span>\n",
      "itemprop=\"recipeIngredient\">1 teaspoon red pepper flakes</span>\n",
      "itemprop=\"recipeIngredient\">3/4 cup seasoned bread crumbs</span>\n",
      "itemprop=\"recipeIngredient\">3/4 cup freshly grated Parmesan cheese, divided</span>\n",
      "itemprop=\"recipeIngredient\">2 tablespoons finely chopped fresh parsley</span>\n"
     ]
    }
   ],
   "source": [
    "update_ingredient = []\n",
    "\n",
    "for i in range(len(ingredients)):\n",
    "    print (ingredients[i])\n",
    "    update_ingredient.append(ingredients[i][28:-7])"
   ]
  },
  {
   "cell_type": "code",
   "execution_count": 6,
   "metadata": {},
   "outputs": [
    {
     "data": {
      "text/plain": [
       "['2 cups angel hair pasta',\n",
       " '1/2 cup butter, divided',\n",
       " '4 cloves garlic, minced',\n",
       " '1 pound uncooked medium shrimp, peeled and deveined',\n",
       " '1/2 cup white cooking wine',\n",
       " '1 lemon, juiced',\n",
       " '1 teaspoon red pepper flakes',\n",
       " '3/4 cup seasoned bread crumbs',\n",
       " '3/4 cup freshly grated Parmesan cheese, divided',\n",
       " '2 tablespoons finely chopped fresh parsley']"
      ]
     },
     "execution_count": 6,
     "metadata": {},
     "output_type": "execute_result"
    }
   ],
   "source": [
    "update_ingredient"
   ]
  },
  {
   "cell_type": "code",
   "execution_count": 7,
   "metadata": {},
   "outputs": [],
   "source": [
    "measurement = ['package', 'packages', 'carton', 'cartons', 'slice', 'slices', 'can', 'cans', 'teaspoon', 'tablespoon', 'cup', 'ounce', 'pint', 'quart', 'gallon', 'pound', 'dash', 'pinch', 'drop', 'peck', 'smidgen', 'saltspoon', 'scruple', 'coffeespoon', 'dessertspoon', 'wineglass', 'gill', 'teacup', 'pottle', 'dram', 'teaspoons', 'tablespoons', 'cups', 'ounces', 'pints', 'quarts', 'gallons', 'pounds', 'dashes', 'pinches', 'drops', 'pecks', 'smidgens', 'saltspoons', 'scruples', 'coffeespoons', 'dessertspoons', 'wineglasses', 'gills', 'teacups', 'pottles', 'drams']"
   ]
  },
  {
   "cell_type": "code",
   "execution_count": 8,
   "metadata": {},
   "outputs": [
    {
     "data": {
      "text/plain": [
       "52"
      ]
     },
     "execution_count": 8,
     "metadata": {},
     "output_type": "execute_result"
    }
   ],
   "source": [
    "len(measurement)"
   ]
  },
  {
   "cell_type": "code",
   "execution_count": 9,
   "metadata": {},
   "outputs": [
    {
     "name": "stdout",
     "output_type": "stream",
     "text": [
      "['4']\n",
      "['1']\n"
     ]
    }
   ],
   "source": [
    "measure = []\n",
    "ingred = []\n",
    "quantity = []\n",
    "for i in range(len(update_ingredient)):\n",
    "    flag = True\n",
    "    for word in update_ingredient[i].lower().split():\n",
    "        if word in measurement:\n",
    "            \n",
    "            ing_quant = update_ingredient[i].split(' '+word+' ')\n",
    "            try: \n",
    "                ingred.append(ing_quant[1])\n",
    "            except:\n",
    "                flag = True\n",
    "                break\n",
    "            measure.append(word)\n",
    "            quantity.append(ing_quant[0])\n",
    "            flag = False\n",
    "            break\n",
    "    if flag:\n",
    "        measure.append(\"None\")\n",
    "        num_pattern = re.compile(r'\\d+\\/\\d+|\\d+')\n",
    "        quan = re.findall(num_pattern, update_ingredient[i]) # only care about the first item, quant always shows at the beginning\n",
    "        if quan:\n",
    "            print (quan)\n",
    "            quantity.append(quan[0])\n",
    "            ingred.append(re.sub(quan[0]+' ', '', update_ingredient[i]))\n",
    "        else:\n",
    "            quantity.append('None')\n",
    "            ingred.append(update_ingredient[i])\n",
    "            \n",
    "        \n",
    "        "
   ]
  },
  {
   "cell_type": "code",
   "execution_count": 10,
   "metadata": {},
   "outputs": [
    {
     "data": {
      "text/plain": [
       "['cups',\n",
       " 'cup',\n",
       " 'None',\n",
       " 'pound',\n",
       " 'cup',\n",
       " 'None',\n",
       " 'teaspoon',\n",
       " 'cup',\n",
       " 'cup',\n",
       " 'tablespoons']"
      ]
     },
     "execution_count": 10,
     "metadata": {},
     "output_type": "execute_result"
    }
   ],
   "source": [
    "measure"
   ]
  },
  {
   "cell_type": "code",
   "execution_count": 11,
   "metadata": {},
   "outputs": [
    {
     "data": {
      "text/plain": [
       "['angel hair pasta',\n",
       " 'butter, divided',\n",
       " 'cloves garlic, minced',\n",
       " 'uncooked medium shrimp, peeled and deveined',\n",
       " 'white cooking wine',\n",
       " 'lemon, juiced',\n",
       " 'red pepper flakes',\n",
       " 'seasoned bread crumbs',\n",
       " 'freshly grated Parmesan cheese, divided',\n",
       " 'finely chopped fresh parsley']"
      ]
     },
     "execution_count": 11,
     "metadata": {},
     "output_type": "execute_result"
    }
   ],
   "source": [
    "ingred"
   ]
  },
  {
   "cell_type": "code",
   "execution_count": 12,
   "metadata": {},
   "outputs": [
    {
     "data": {
      "text/plain": [
       "['2', '1/2', '4', '1', '1/2', '1', '1', '3/4', '3/4', '2']"
      ]
     },
     "execution_count": 12,
     "metadata": {},
     "output_type": "execute_result"
    }
   ],
   "source": [
    "quantity"
   ]
  },
  {
   "cell_type": "code",
   "execution_count": 13,
   "metadata": {},
   "outputs": [
    {
     "name": "stdout",
     "output_type": "stream",
     "text": [
      "['butter', 'divided']\n",
      "['cloves garlic', 'minced']\n",
      "['uncooked medium shrimp', 'peeled and deveined']\n",
      "['lemon', 'juiced']\n",
      "['freshly grated Parmesan cheese', 'divided']\n"
     ]
    }
   ],
   "source": [
    "Descriptor = []\n",
    "Preparation = []\n",
    "refined_ingred = []\n",
    "for item in ingred:\n",
    "    ss = item.split(', ')\n",
    "    if ss[0] != item:\n",
    "        print (ss)\n",
    "        refined_ingred.append(ss[0])\n",
    "        Preparation.append(ss[1:])\n",
    "    else:\n",
    "        Preparation.append('None')\n",
    "        refined_ingred.append(item)"
   ]
  },
  {
   "cell_type": "code",
   "execution_count": 14,
   "metadata": {},
   "outputs": [
    {
     "data": {
      "text/plain": [
       "['angel hair pasta',\n",
       " 'butter',\n",
       " 'cloves garlic',\n",
       " 'uncooked medium shrimp',\n",
       " 'white cooking wine',\n",
       " 'lemon',\n",
       " 'red pepper flakes',\n",
       " 'seasoned bread crumbs',\n",
       " 'freshly grated Parmesan cheese',\n",
       " 'finely chopped fresh parsley']"
      ]
     },
     "execution_count": 14,
     "metadata": {},
     "output_type": "execute_result"
    }
   ],
   "source": [
    "refined_ingred"
   ]
  },
  {
   "cell_type": "code",
   "execution_count": 15,
   "metadata": {},
   "outputs": [
    {
     "data": {
      "text/plain": [
       "['None',\n",
       " ['divided'],\n",
       " ['minced'],\n",
       " ['peeled and deveined'],\n",
       " 'None',\n",
       " ['juiced'],\n",
       " 'None',\n",
       " 'None',\n",
       " ['divided'],\n",
       " 'None']"
      ]
     },
     "execution_count": 15,
     "metadata": {},
     "output_type": "execute_result"
    }
   ],
   "source": [
    "Preparation"
   ]
  },
  {
   "cell_type": "code",
   "execution_count": 16,
   "metadata": {},
   "outputs": [
    {
     "name": "stdout",
     "output_type": "stream",
     "text": [
      "['organic', 'fresh', 'extra-virgin', 'frozen', 'caramelized', 'canned', 'smoked', 'pickled', 'fermented', 'braised', 'marinaded', 'aged', 'cooked', 'uncooked']\n",
      "$$$$$$$$$$$$$$$$$$$\n",
      "['peeled', 'skined', 'sautéed', 'broiling', 'boiled', 'boiling', 'poached', 'fried', 'baked', 'toasted', 'simmering', 'simmeredgrilling', 'grilled', 'chopped', 'grated', 'stirred', 'stirring', 'shaken', 'shakingminced', 'mincingcrushed', 'squeezed', 'greased', 'sprayed', 'melted', 'sprinkled', 'beaten', 'seasoned', 'rolled', 'filled', 'topped', 'whisked', 'browned', 'spreaded', 'mixed', 'heated', 'drained', 'layered', 'layeringfolded', 'marinated', 'dredged', 'wrapped', 'shaped', 'scraped', 'combined', 'dipped', 'blended', 'rendered', 'tossed', 'threaded', 'shredded']\n"
     ]
    }
   ],
   "source": [
    "from DES_PRE import DES_PRE\n",
    "print (DES_PRE['descriptor'])\n",
    "print(\"$$$$$$$$$$$$$$$$$$$\")\n",
    "print (DES_PRE['preparation'])"
   ]
  },
  {
   "cell_type": "code",
   "execution_count": 17,
   "metadata": {},
   "outputs": [],
   "source": [
    "rerefined_ingred = []\n",
    "count = 0\n",
    "for item in refined_ingred:\n",
    "    des_index = []\n",
    "    for descriptor in DES_PRE['descriptor']:\n",
    "        if descriptor in item.lower().split():    #item.find(descriptor) != -1:\n",
    "            des_index.append(item.lower().split().index(descriptor))\n",
    "    if des_index:\n",
    "        max_des_index = max(des_index)\n",
    "    \n",
    "    pre_index = []\n",
    "    for pre in DES_PRE['preparation']:\n",
    "        if pre in item.lower().split(): #item.find(pre) != -1:\n",
    "            pre_index.append(item.lower().split().index(pre))   \n",
    "    if pre_index:\n",
    "        max_pre_index = max(pre_index)\n",
    "    \n",
    "    if des_index and not pre_index:\n",
    "        rerefined_ingred.append(' '.join(item.split()[max_des_index+1:]))\n",
    "        Descriptor.append(' '.join(item.split()[:max_des_index+1]))\n",
    "        Preparation[count] = Preparation[count]\n",
    "    if not des_index and pre_index:\n",
    "        rerefined_ingred.append(' '.join(item.split()[max_pre_index+1:]))\n",
    "        Descriptor.append(\"None\")\n",
    "        if Preparation[count] == \"None\":\n",
    "            Preparation[count] = [' '.join(item.split()[:max_pre_index+1])]\n",
    "        else:\n",
    "            Preparation[count].append(' '.join(item.split()[:max_pre_index+1]))\n",
    "    if des_index and pre_index:\n",
    "        if max_des_index > max_pre_index:\n",
    "            rerefined_ingred.append(' '.join(item.split()[max_des_index+1:]))\n",
    "            if Preparation[count] == \"None\":\n",
    "                Preparation[count] = [' '.join(item.split()[:max_pre_index+1])]\n",
    "            else:\n",
    "                Preparation[count].append(' '.join(item.split()[:max_pre_index+1]))\n",
    "            Descriptor.append(' '.join(item.split()[max_pre_index+1:max_des_index+1]))\n",
    "        else:\n",
    "            rerefined_ingred.append(' '.join(item.split()[max_pre_index+1:]))\n",
    "            if Preparation[count] == \"None\":\n",
    "                Preparation[count] = [' '.join(item.split()[max_des_index+1:max_pre_index+1])]\n",
    "            else:\n",
    "                Preparation[count].append(' '.join(item.split()[max_des_index+1:max_pre_index+1]))\n",
    "            Descriptor.append(' '.join(item.split()[:max_des_index+1]))\n",
    "\n",
    "    if not des_index and not pre_index:\n",
    "        rerefined_ingred.append(item)\n",
    "        Descriptor.append(\"None\")\n",
    "        Preparation[count] = Preparation[count]\n",
    "    count += 1\n",
    "#     if count == 10:\n",
    "#         print (des_index)\n",
    "#         print (pre_index)\n",
    "#         print (item)"
   ]
  },
  {
   "cell_type": "code",
   "execution_count": 18,
   "metadata": {},
   "outputs": [
    {
     "data": {
      "text/plain": [
       "['angel hair pasta',\n",
       " 'butter',\n",
       " 'cloves garlic',\n",
       " 'medium shrimp',\n",
       " 'white cooking wine',\n",
       " 'lemon',\n",
       " 'red pepper flakes',\n",
       " 'bread crumbs',\n",
       " 'Parmesan cheese',\n",
       " 'parsley']"
      ]
     },
     "execution_count": 18,
     "metadata": {},
     "output_type": "execute_result"
    }
   ],
   "source": [
    "rerefined_ingred"
   ]
  },
  {
   "cell_type": "code",
   "execution_count": 19,
   "metadata": {},
   "outputs": [
    {
     "data": {
      "text/plain": [
       "['None',\n",
       " 'None',\n",
       " 'None',\n",
       " 'uncooked',\n",
       " 'None',\n",
       " 'None',\n",
       " 'None',\n",
       " 'None',\n",
       " 'None',\n",
       " 'fresh']"
      ]
     },
     "execution_count": 19,
     "metadata": {},
     "output_type": "execute_result"
    }
   ],
   "source": [
    "Descriptor"
   ]
  },
  {
   "cell_type": "code",
   "execution_count": 20,
   "metadata": {},
   "outputs": [
    {
     "data": {
      "text/plain": [
       "['None',\n",
       " ['divided'],\n",
       " ['minced'],\n",
       " ['peeled and deveined'],\n",
       " 'None',\n",
       " ['juiced'],\n",
       " 'None',\n",
       " ['seasoned'],\n",
       " ['divided', 'freshly grated'],\n",
       " ['finely chopped']]"
      ]
     },
     "execution_count": 20,
     "metadata": {},
     "output_type": "execute_result"
    }
   ],
   "source": [
    "Preparation"
   ]
  },
  {
   "cell_type": "code",
   "execution_count": 21,
   "metadata": {},
   "outputs": [
    {
     "name": "stdout",
     "output_type": "stream",
     "text": [
      "['<span class=\"recipe-directions__list--item\">Bring a large pot of lightly salted water to a boil. Cook angel hair pasta in the boiling water, stirring occasionally, until tender yet firm to the bite, 4 to 5 minutes. Drain and set aside.\\n                            </span>', '<span class=\"recipe-directions__list--item\">Set an oven rack about 6 inches from the heat source and preheat the oven\\'s broiler.\\n                            </span>', '<span class=\"recipe-directions__list--item\">Heat 1/4 cup butter over medium heat in a large, deep skillet. Add garlic; cook and stir until fragrant. Add shrimp, white wine, and lemon juice; continue to cook and stir until shrimp is bright pink on the outside and the meat is opaque, about 5 minutes. Stir in red pepper flakes until well combined. Remove from heat and set aside.\\n                            </span>', '<span class=\"recipe-directions__list--item\">Place remaining 1/4 cup butter, bread crumbs, 1/2 the Parmesan cheese, and parsley in a bowl. Stir until well combined. Set aside.\\n                            </span>', '<span class=\"recipe-directions__list--item\">Place cooked pasta into shrimp scampi mixture; toss until fully coated in sauce. Add remaining Parmesan cheese and toss well. Top with bread crumb mixture.\\n                            </span>', '<span class=\"recipe-directions__list--item\">Broil in the preheated oven until golden brown, 3 to 4 minutes. Serve immediately.\\n                            </span>']\n"
     ]
    }
   ],
   "source": [
    "direction_pattern = re.compile(r'<span class=\"recipe-directions__list--item\">(?:(?!<span class=\"recipe-directions__list--item\">|<\\/span>)[\\s\\S])*<\\/span>')\n",
    "\n",
    "direction = re.findall(direction_pattern, str(soup))\n",
    "print (direction)"
   ]
  },
  {
   "cell_type": "markdown",
   "metadata": {},
   "source": [
    "### DIY"
   ]
  },
  {
   "cell_type": "code",
   "execution_count": 22,
   "metadata": {},
   "outputs": [],
   "source": [
    "count = 0\n",
    "for item in direction:\n",
    "    direction[count] = item.replace('<span class=\"recipe-directions__list--item\">', '')\n",
    "    direction[count] = direction[count].replace('\\n                            </span>', '')\n",
    "    count += 1"
   ]
  },
  {
   "cell_type": "code",
   "execution_count": 23,
   "metadata": {},
   "outputs": [
    {
     "data": {
      "text/plain": [
       "6"
      ]
     },
     "execution_count": 23,
     "metadata": {},
     "output_type": "execute_result"
    }
   ],
   "source": [
    "len(direction)"
   ]
  },
  {
   "cell_type": "code",
   "execution_count": 24,
   "metadata": {},
   "outputs": [
    {
     "name": "stdout",
     "output_type": "stream",
     "text": [
      "['Bring a large pot of lightly salted water to a boil', ' Cook angel hair pasta in the boiling water, stirring occasionally, until tender yet firm to the bite, 4 to 5 minutes', ' Drain and set aside', '']\n",
      "[\"Set an oven rack about 6 inches from the heat source and preheat the oven's broiler\", '']\n",
      "['Heat 1/4 cup butter over medium heat in a large, deep skillet', ' Add garlic; cook and stir until fragrant', ' Add shrimp, white wine, and lemon juice; continue to cook and stir until shrimp is bright pink on the outside and the meat is opaque, about 5 minutes', ' Stir in red pepper flakes until well combined', ' Remove from heat and set aside', '']\n",
      "['Place remaining 1/4 cup butter, bread crumbs, 1/2 the Parmesan cheese, and parsley in a bowl', ' Stir until well combined', ' Set aside', '']\n",
      "['Place cooked pasta into shrimp scampi mixture; toss until fully coated in sauce', ' Add remaining Parmesan cheese and toss well', ' Top with bread crumb mixture', '']\n",
      "['Broil in the preheated oven until golden brown, 3 to 4 minutes', ' Serve immediately', '']\n"
     ]
    }
   ],
   "source": [
    "for ii in range(len(direction)):\n",
    "    print(direction[ii].split('.'))\n",
    "    ii += 1"
   ]
  },
  {
   "cell_type": "code",
   "execution_count": 25,
   "metadata": {},
   "outputs": [],
   "source": [
    "import string\n",
    "def DIY_to_easy(ingredients, directions, measure, quantity, descriptor, preparation, easy_magnitude, title):\n",
    "    reduced_number = int (len(ingredients) * easy_magnitude)\n",
    "    not_removed_ingredient = []\n",
    "    for item in ingredients:\n",
    "        for word in title.lower().split():\n",
    "            if word in item.lower():\n",
    "                not_removed_ingredient.append(item)\n",
    "                break\n",
    "    print (\"ingredients: \", ingredients)\n",
    "    print (\"not_removed_ingredient\", not_removed_ingredient)\n",
    "    print (\"reduced_number: \", reduced_number)\n",
    "    print (\"largest_reduced_number: \", len(ingredients) - len(not_removed_ingredient))\n",
    "    if len(ingredients) - len(not_removed_ingredient) <= reduced_number:\n",
    "        # remove all the other ingrdients/measure/quantity/descriptor/preparation\n",
    "        can_removed_ingredient = list(set(ingredients)-set(not_removed_ingredient))\n",
    "        counter = 0\n",
    "        new_ingredients = []\n",
    "        new_quantity = []\n",
    "        new_measure = []\n",
    "        new_descriptor = []\n",
    "        new_preparation = []\n",
    "        for item in ingredients:\n",
    "            if item in not_removed_ingredient:\n",
    "                new_ingredients.append(ingredients[counter])\n",
    "                new_quantity.append(quantity[counter])\n",
    "                new_measure.append(measure[counter])\n",
    "                new_descriptor.append(descriptor[counter])\n",
    "                new_preparation.append(preparation[counter])\n",
    "                counter += 1\n",
    "            else:\n",
    "                counter += 1\n",
    "                continue\n",
    "\n",
    "        \n",
    "        new_direction = {}\n",
    "        i = 0\n",
    "        exclude = string.punctuation.replace(',', '').replace('.', ''). replace('/','')\n",
    "        for direction in directions:\n",
    "            directions[i] = direction.translate(str.maketrans('','',exclude))\n",
    "            i += 1\n",
    "        print (directions)\n",
    "        count = 0    \n",
    "        for direction in directions:\n",
    "            new_direction[count] = []\n",
    "            for item in direction.split('.'):\n",
    "                if item != '':\n",
    "                    # if not_removed_ingredient in item and can removed_word in item, then remove the corresponding words\n",
    "                    if any(word in item.lower() for words in not_removed_ingredient for word in words.lower().split()) and any(word in item.lower() for words in can_removed_ingredient for word in words.lower().split()):\n",
    "#                         new_item = []\n",
    "#                         for e in item.split(','):\n",
    "#                             if any(word in e.lower() for words in not_removed_ingredient for word in words.lower().split()) and any(word in e.lower() for words in can_removed_ingredient for word in words.lower().split()):\n",
    "#                                 for check_words in can_removed_ingredient:\n",
    "#                                     for check_word in check_words.lower().split():\n",
    "#                                         if check_word in e.lower().split():\n",
    "#                                             new_item.append(' '.join(e.lower().split()[:e.lower().split().index(check_word)]))\n",
    "#                                             break\n",
    "#                                         break\n",
    "                                \n",
    "#                                 #new_item.append(e)\n",
    "#                             if any(word in e.lower() for words in not_removed_ingredient for word in words.lower().split()) and not any(word in e.lower() for words in can_removed_ingredient for word in words.lower().split()):\n",
    "#                                 new_item.append(e)\n",
    "#                             if not any(word in e.lower() for words in not_removed_ingredient for word in words.lower().split()) and not any(word in e.lower() for words in can_removed_ingredient for word in words.lower().split()):\n",
    "#                                 new_item.append(e)\n",
    "#                         new_direction[count].append(', '.join(new_item))\n",
    "                        new_direction[count].append(item)\n",
    "                    # if not_removed_ingredient in item and can removed_word not in item, then keep the sentence, do nothing\n",
    "                    if any(word in item.lower() for words in not_removed_ingredient for word in words.lower().split()) and not any(word in item.lower() for words in can_removed_ingredient for word in words.lower().split()):\n",
    "                        new_direction[count].append(item)\n",
    "                    \n",
    "                    # if not_removed_ingredient not in item and can removed_word not in, then keep the sentence, do nothing\n",
    "                    if not any(word in item.lower() for words in not_removed_ingredient for word in words.lower().split()) and not any(word in item.lower() for words in can_removed_ingredient for word in words.lower().split()):\n",
    "                        new_direction[count].append(item)\n",
    "                    # if not_removed_ingredient not in item and can removed_word in, then delete the item\n",
    "            new_direction[count] = '. '.join(new_direction[count])\n",
    "            count += 1\n",
    "        \n",
    "        for i, (step, content) in enumerate(new_direction.items()):\n",
    "            cc = 0\n",
    "            for item in ingredients:\n",
    "                if item in can_removed_ingredient:\n",
    "                    if any(word in content.lower() for word in item.lower().split()):\n",
    "                        new_ingredients.append(ingredients[cc])\n",
    "                        new_quantity.append(quantity[cc])\n",
    "                        new_measure.append(measure[cc])\n",
    "                        new_descriptor.append(descriptor[cc])\n",
    "                        new_preparation.append(preparation[cc])\n",
    "                cc += 1\n",
    "    else:\n",
    "        # raandomly remove #not_removed_ingredient\n",
    "        can_removed_ingredient = list(set(ingredients) - set(not_removed_ingredient))\n",
    "        counter = 0\n",
    "        new_ingredients = []\n",
    "        new_quantity = []\n",
    "        new_measure = []\n",
    "        new_descriptor = []\n",
    "        new_preparation = []\n",
    "        not_removed_ingredient = not_removed_ingredient + can_removed_ingredient[reduced_number:]\n",
    "        for item in ingredients:\n",
    "            if item in not_removed_ingredient:\n",
    "                new_ingredients.append(ingredients[counter])\n",
    "                new_quantity.append(quantity[counter])\n",
    "                new_measure.append(measure[counter])\n",
    "                new_descriptor.append(descriptor[counter])\n",
    "                new_preparation.append(preparation[counter])\n",
    "                counter += 1\n",
    "            else:\n",
    "                counter += 1\n",
    "                continue\n",
    "        \n",
    "        print (\"temp_new_ingredients: \", new_ingredients)\n",
    "        # change direction\n",
    "        new_direction = {}\n",
    "        i = 0\n",
    "        exclude = string.punctuation.replace(',', '').replace('.', ''). replace('/','')\n",
    "        for direction in directions:\n",
    "            directions[i] = direction.translate(str.maketrans('','',exclude))\n",
    "            i += 1\n",
    "        print (directions)\n",
    "        count = 0    \n",
    "        for direction in directions:\n",
    "            new_direction[count] = []\n",
    "            for item in direction.split('.'):\n",
    "                if item != '':\n",
    "                    # if not_removed_ingredient in item and can removed_word in item, then remove the corresponding words\n",
    "                    if any(word in item.lower() for words in not_removed_ingredient for word in words.lower().split()) and any(word in item.lower() for words in can_removed_ingredient for word in words.lower().split()):\n",
    "#                         new_item = []\n",
    "#                         for e in item.split(','):\n",
    "#                             if any(word in e.lower() for words in not_removed_ingredient for word in words.lower().split()) and any(word in e.lower() for words in can_removed_ingredient for word in words.lower().split()):\n",
    "#                                 for check_words in can_removed_ingredient:\n",
    "#                                     for check_word in check_words.lower().split():\n",
    "#                                         if check_word in e.lower().split():\n",
    "#                                             new_item.append(' '.join(e.lower().split()[:e.lower().split().index(check_word)]))\n",
    "#                                             break\n",
    "#                                         break\n",
    "                                \n",
    "#                                 #new_item.append(e)\n",
    "#                             if any(word in e.lower() for words in not_removed_ingredient for word in words.lower().split()) and not any(word in e.lower() for words in can_removed_ingredient for word in words.lower().split()):\n",
    "#                                 new_item.append(e)\n",
    "#                             if not any(word in e.lower() for words in not_removed_ingredient for word in words.lower().split()) and not any(word in e.lower() for words in can_removed_ingredient for word in words.lower().split()):\n",
    "#                                 new_item.append(e)\n",
    "#                         new_direction[count].append(', '.join(new_item))\n",
    "                        new_direction[count].append(item)\n",
    "                    # if not_removed_ingredient in item and can removed_word not in item, then keep the sentence, do nothing\n",
    "                    if any(word in item.lower() for words in not_removed_ingredient for word in words.lower().split()) and not any(word in item.lower() for words in can_removed_ingredient for word in words.lower().split()):\n",
    "                        new_direction[count].append(item)\n",
    "                    \n",
    "                    # if not_removed_ingredient not in item and can removed_word not in, then keep the sentence, do nothing\n",
    "                    if not any(word in item.lower() for words in not_removed_ingredient for word in words.lower().split()) and not any(word in item.lower() for words in can_removed_ingredient for word in words.lower().split()):\n",
    "                        new_direction[count].append(item)\n",
    "                    # if not_removed_ingredient not in item and can removed_word in, then delete the item\n",
    "            new_direction[count] = '.'.join(new_direction[count])\n",
    "            count += 1\n",
    "        \n",
    "        for i, (step, content) in enumerate(new_direction.items()):\n",
    "            cc = 0\n",
    "            for item in ingredients:\n",
    "                if item in can_removed_ingredient[:reduced_number]:\n",
    "                    if any(word in content.lower() for word in item.lower().split()):\n",
    "                        new_ingredients.append(ingredients[cc])\n",
    "                        new_quantity.append(quantity[cc])\n",
    "                        new_measure.append(measure[cc])\n",
    "                        new_descriptor.append(descriptor[cc])\n",
    "                        new_preparation.append(preparation[cc])\n",
    "                cc += 1\n",
    "            \n",
    "    return new_ingredients, new_direction, new_measure, new_quantity, new_descriptor, new_preparation"
   ]
  },
  {
   "cell_type": "code",
   "execution_count": 26,
   "metadata": {},
   "outputs": [
    {
     "name": "stdout",
     "output_type": "stream",
     "text": [
      "['<title>Parmesan-Crusted Shrimp Scampi with Pasta Recipe - Allrecipes.com</title>']\n",
      "Parmesan-Crusted Shrimp Scampi with Pasta Recipe\n",
      "ingredients:  ['angel hair pasta', 'butter', 'cloves garlic', 'medium shrimp', 'white cooking wine', 'lemon', 'red pepper flakes', 'bread crumbs', 'Parmesan cheese', 'parsley']\n",
      "not_removed_ingredient ['angel hair pasta', 'medium shrimp']\n",
      "reduced_number:  9\n",
      "largest_reduced_number:  8\n",
      "['Bring a large pot of lightly salted water to a boil. Cook angel hair pasta in the boiling water, stirring occasionally, until tender yet firm to the bite, 4 to 5 minutes. Drain and set aside.', 'Set an oven rack about 6 inches from the heat source and preheat the ovens broiler.', 'Heat 1/4 cup butter over medium heat in a large, deep skillet. Add garlic cook and stir until fragrant. Add shrimp, white wine, and lemon juice continue to cook and stir until shrimp is bright pink on the outside and the meat is opaque, about 5 minutes. Stir in red pepper flakes until well combined. Remove from heat and set aside.', 'Place remaining 1/4 cup butter, bread crumbs, 1/2 the Parmesan cheese, and parsley in a bowl. Stir until well combined. Set aside.', 'Place cooked pasta into shrimp scampi mixture toss until fully coated in sauce. Add remaining Parmesan cheese and toss well. Top with bread crumb mixture.', 'Broil in the preheated oven until golden brown, 3 to 4 minutes. Serve immediately.']\n"
     ]
    }
   ],
   "source": [
    "# a robust title extractor\n",
    "title_pattern = re.compile(r'<title>(?:(?!<title>|<\\/title>)[\\s\\S])*<\\/title>')\n",
    "\n",
    "title = re.findall(title_pattern, str(soup))\n",
    "\n",
    "print (title)\n",
    "\n",
    "\n",
    "title = title[0].replace('<title>', '').replace(' - Allrecipes.com</title>', '')\n",
    "\n",
    "print (title)\n",
    "\n",
    "new_ingredients, new_direction, new_measure, new_quantity, new_descriptor, new_preparation = DIY_to_easy(rerefined_ingred, direction, measure, quantity, Descriptor, Preparation, 0.9, title)"
   ]
  },
  {
   "cell_type": "code",
   "execution_count": 27,
   "metadata": {},
   "outputs": [
    {
     "data": {
      "text/plain": [
       "['angel hair pasta', 'medium shrimp', 'butter', 'white cooking wine', 'lemon']"
      ]
     },
     "execution_count": 27,
     "metadata": {},
     "output_type": "execute_result"
    }
   ],
   "source": [
    "new_ingredients"
   ]
  },
  {
   "cell_type": "code",
   "execution_count": 28,
   "metadata": {},
   "outputs": [
    {
     "data": {
      "text/plain": [
       "['cups', 'pound', 'cup', 'cup', 'None']"
      ]
     },
     "execution_count": 28,
     "metadata": {},
     "output_type": "execute_result"
    }
   ],
   "source": [
    "new_measure"
   ]
  },
  {
   "cell_type": "code",
   "execution_count": 29,
   "metadata": {},
   "outputs": [
    {
     "data": {
      "text/plain": [
       "['2', '1', '1/2', '1/2', '1']"
      ]
     },
     "execution_count": 29,
     "metadata": {},
     "output_type": "execute_result"
    }
   ],
   "source": [
    "new_quantity"
   ]
  },
  {
   "cell_type": "code",
   "execution_count": 30,
   "metadata": {},
   "outputs": [
    {
     "data": {
      "text/plain": [
       "['None', 'uncooked', 'None', 'None', 'None']"
      ]
     },
     "execution_count": 30,
     "metadata": {},
     "output_type": "execute_result"
    }
   ],
   "source": [
    "new_descriptor"
   ]
  },
  {
   "cell_type": "code",
   "execution_count": 31,
   "metadata": {},
   "outputs": [
    {
     "data": {
      "text/plain": [
       "['None', ['peeled and deveined'], ['divided'], 'None', ['juiced']]"
      ]
     },
     "execution_count": 31,
     "metadata": {},
     "output_type": "execute_result"
    }
   ],
   "source": [
    "new_preparation"
   ]
  },
  {
   "cell_type": "code",
   "execution_count": 32,
   "metadata": {},
   "outputs": [
    {
     "data": {
      "text/plain": [
       "{0: 'Bring a large pot of lightly salted water to a boil.  Cook angel hair pasta in the boiling water, stirring occasionally, until tender yet firm to the bite, 4 to 5 minutes.  Drain and set aside',\n",
       " 1: 'Set an oven rack about 6 inches from the heat source and preheat the ovens broiler',\n",
       " 2: 'Heat 1/4 cup butter over medium heat in a large, deep skillet.  Add shrimp, white wine, and lemon juice continue to cook and stir until shrimp is bright pink on the outside and the meat is opaque, about 5 minutes.  Remove from heat and set aside',\n",
       " 3: ' Stir until well combined.  Set aside',\n",
       " 4: 'Place cooked pasta into shrimp scampi mixture toss until fully coated in sauce',\n",
       " 5: 'Broil in the preheated oven until golden brown, 3 to 4 minutes.  Serve immediately'}"
      ]
     },
     "execution_count": 32,
     "metadata": {},
     "output_type": "execute_result"
    }
   ],
   "source": [
    "new_direction"
   ]
  },
  {
   "cell_type": "code",
   "execution_count": 33,
   "metadata": {},
   "outputs": [
    {
     "name": "stdout",
     "output_type": "stream",
     "text": [
      "ingredients:  ['angel hair pasta', 'butter', 'cloves garlic', 'medium shrimp', 'white cooking wine', 'lemon', 'red pepper flakes', 'bread crumbs', 'Parmesan cheese', 'parsley']\n",
      "not_removed_ingredient ['angel hair pasta', 'medium shrimp']\n",
      "reduced_number:  5\n",
      "largest_reduced_number:  8\n",
      "temp_new_ingredients:  ['angel hair pasta', 'butter', 'cloves garlic', 'medium shrimp', 'bread crumbs']\n",
      "['Bring a large pot of lightly salted water to a boil. Cook angel hair pasta in the boiling water, stirring occasionally, until tender yet firm to the bite, 4 to 5 minutes. Drain and set aside.', 'Set an oven rack about 6 inches from the heat source and preheat the ovens broiler.', 'Heat 1/4 cup butter over medium heat in a large, deep skillet. Add garlic cook and stir until fragrant. Add shrimp, white wine, and lemon juice continue to cook and stir until shrimp is bright pink on the outside and the meat is opaque, about 5 minutes. Stir in red pepper flakes until well combined. Remove from heat and set aside.', 'Place remaining 1/4 cup butter, bread crumbs, 1/2 the Parmesan cheese, and parsley in a bowl. Stir until well combined. Set aside.', 'Place cooked pasta into shrimp scampi mixture toss until fully coated in sauce. Add remaining Parmesan cheese and toss well. Top with bread crumb mixture.', 'Broil in the preheated oven until golden brown, 3 to 4 minutes. Serve immediately.']\n"
     ]
    }
   ],
   "source": [
    "new_ingredients1, new_direction1, new_measure1, new_quantity1, new_descriptor1, new_preparation1 = DIY_to_easy(rerefined_ingred, direction, measure, quantity, Descriptor, Preparation, 0.5, title)"
   ]
  },
  {
   "cell_type": "code",
   "execution_count": 34,
   "metadata": {},
   "outputs": [
    {
     "data": {
      "text/plain": [
       "['angel hair pasta',\n",
       " 'butter',\n",
       " 'cloves garlic',\n",
       " 'medium shrimp',\n",
       " 'bread crumbs',\n",
       " 'white cooking wine',\n",
       " 'lemon',\n",
       " 'Parmesan cheese',\n",
       " 'parsley']"
      ]
     },
     "execution_count": 34,
     "metadata": {},
     "output_type": "execute_result"
    }
   ],
   "source": [
    "new_ingredients1"
   ]
  },
  {
   "cell_type": "code",
   "execution_count": 35,
   "metadata": {},
   "outputs": [
    {
     "data": {
      "text/plain": [
       "['cups', 'cup', 'None', 'pound', 'cup', 'cup', 'None', 'cup', 'tablespoons']"
      ]
     },
     "execution_count": 35,
     "metadata": {},
     "output_type": "execute_result"
    }
   ],
   "source": [
    "new_measure1"
   ]
  },
  {
   "cell_type": "code",
   "execution_count": 36,
   "metadata": {},
   "outputs": [
    {
     "data": {
      "text/plain": [
       "['2', '1/2', '4', '1', '3/4', '1/2', '1', '3/4', '2']"
      ]
     },
     "execution_count": 36,
     "metadata": {},
     "output_type": "execute_result"
    }
   ],
   "source": [
    "new_quantity1"
   ]
  },
  {
   "cell_type": "code",
   "execution_count": 37,
   "metadata": {},
   "outputs": [
    {
     "data": {
      "text/plain": [
       "['None', 'None', 'None', 'uncooked', 'None', 'None', 'None', 'None', 'fresh']"
      ]
     },
     "execution_count": 37,
     "metadata": {},
     "output_type": "execute_result"
    }
   ],
   "source": [
    "new_descriptor1"
   ]
  },
  {
   "cell_type": "code",
   "execution_count": 38,
   "metadata": {},
   "outputs": [
    {
     "data": {
      "text/plain": [
       "['None',\n",
       " ['divided'],\n",
       " ['minced'],\n",
       " ['peeled and deveined'],\n",
       " ['seasoned'],\n",
       " 'None',\n",
       " ['juiced'],\n",
       " ['divided', 'freshly grated'],\n",
       " ['finely chopped']]"
      ]
     },
     "execution_count": 38,
     "metadata": {},
     "output_type": "execute_result"
    }
   ],
   "source": [
    "new_preparation1"
   ]
  },
  {
   "cell_type": "code",
   "execution_count": 39,
   "metadata": {},
   "outputs": [
    {
     "data": {
      "text/plain": [
       "{0: 'Bring a large pot of lightly salted water to a boil. Cook angel hair pasta in the boiling water, stirring occasionally, until tender yet firm to the bite, 4 to 5 minutes. Drain and set aside',\n",
       " 1: 'Set an oven rack about 6 inches from the heat source and preheat the ovens broiler',\n",
       " 2: 'Heat 1/4 cup butter over medium heat in a large, deep skillet. Add garlic cook and stir until fragrant. Add shrimp, white wine, and lemon juice continue to cook and stir until shrimp is bright pink on the outside and the meat is opaque, about 5 minutes. Remove from heat and set aside',\n",
       " 3: 'Place remaining 1/4 cup butter, bread crumbs, 1/2 the Parmesan cheese, and parsley in a bowl. Stir until well combined. Set aside',\n",
       " 4: 'Place cooked pasta into shrimp scampi mixture toss until fully coated in sauce. Top with bread crumb mixture',\n",
       " 5: 'Broil in the preheated oven until golden brown, 3 to 4 minutes. Serve immediately'}"
      ]
     },
     "execution_count": 39,
     "metadata": {},
     "output_type": "execute_result"
    }
   ],
   "source": [
    "new_direction1"
   ]
  },
  {
   "cell_type": "markdown",
   "metadata": {},
   "source": [
    "### no red pepper flakes, a more simple method, which should make sense (make sensing here means the dish should taste better than randomly removing ingredients.)"
   ]
  },
  {
   "cell_type": "markdown",
   "metadata": {},
   "source": [
    "### some simple menus could keep the same version since they have been simple enough."
   ]
  },
  {
   "cell_type": "code",
   "execution_count": null,
   "metadata": {},
   "outputs": [],
   "source": []
  }
 ],
 "metadata": {
  "kernelspec": {
   "display_name": "Python 3",
   "language": "python",
   "name": "python3"
  },
  "language_info": {
   "codemirror_mode": {
    "name": "ipython",
    "version": 3
   },
   "file_extension": ".py",
   "mimetype": "text/x-python",
   "name": "python",
   "nbconvert_exporter": "python",
   "pygments_lexer": "ipython3",
   "version": "3.7.6"
  }
 },
 "nbformat": 4,
 "nbformat_minor": 2
}
