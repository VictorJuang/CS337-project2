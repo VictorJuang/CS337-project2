{
 "cells": [
  {
   "cell_type": "code",
   "execution_count": 1,
   "metadata": {},
   "outputs": [],
   "source": [
    "from bs4 import BeautifulSoup\n",
    "import urllib.parse\n",
    "import urllib.request\n",
    "import re\n",
    "#url = \"https://www.allrecipes.com/recipe/53729/fish-tacos/\"\n",
    "#url = \"https://www.allrecipes.com/recipe/15925/creamy-au-gratin-potatoes/\"\n",
    "#url = \"https://www.allrecipes.com/recipe/277943/slow-cooker-loaded-potato-soup/\"\n",
    "url = \"https://www.allrecipes.com/recipe/273326/parmesan-crusted-shrimp-scampi-with-pasta/\"\n",
    "#url = \"https://www.allrecipes.com/recipe/277917/slow-cooker-cheesy-cauliflower-casserole/\"\n",
    "req = urllib.request.Request(url)\n",
    "req.add_header('Cookie', 'euConsent=true')\n",
    "\n",
    "html_content = urllib.request.urlopen(req).read()\n",
    "soup = BeautifulSoup(html_content, 'html.parser')"
   ]
  },
  {
   "cell_type": "code",
   "execution_count": 2,
   "metadata": {},
   "outputs": [],
   "source": [
    "ingredient_pattern = re.compile(r'itemprop=\"recipeIngredient\">(?:(?!itemprop=\"recipeIngredient\">|<\\/span>)[\\s\\S])*<\\/span>')\n",
    "\n",
    "#ingredients = re.findall(ingredient_pattern, 'itemprop=\"recipeIngredient\">1/4 cup chicken broth</span>')\n",
    "ingredients = re.findall(ingredient_pattern, str(soup))"
   ]
  },
  {
   "cell_type": "code",
   "execution_count": 3,
   "metadata": {},
   "outputs": [
    {
     "data": {
      "text/plain": [
       "['itemprop=\"recipeIngredient\">2 cups angel hair pasta</span>',\n",
       " 'itemprop=\"recipeIngredient\">1/2 cup butter, divided</span>',\n",
       " 'itemprop=\"recipeIngredient\">4 cloves garlic, minced</span>',\n",
       " 'itemprop=\"recipeIngredient\">1 pound uncooked medium shrimp, peeled and deveined</span>',\n",
       " 'itemprop=\"recipeIngredient\">1/2 cup white cooking wine</span>',\n",
       " 'itemprop=\"recipeIngredient\">1 lemon, juiced</span>',\n",
       " 'itemprop=\"recipeIngredient\">1 teaspoon red pepper flakes</span>',\n",
       " 'itemprop=\"recipeIngredient\">3/4 cup seasoned bread crumbs</span>',\n",
       " 'itemprop=\"recipeIngredient\">3/4 cup freshly grated Parmesan cheese, divided</span>',\n",
       " 'itemprop=\"recipeIngredient\">2 tablespoons finely chopped fresh parsley</span>']"
      ]
     },
     "execution_count": 3,
     "metadata": {},
     "output_type": "execute_result"
    }
   ],
   "source": [
    "ingredients"
   ]
  },
  {
   "cell_type": "code",
   "execution_count": null,
   "metadata": {},
   "outputs": [],
   "source": []
  },
  {
   "cell_type": "code",
   "execution_count": 4,
   "metadata": {},
   "outputs": [
    {
     "data": {
      "text/plain": [
       "10"
      ]
     },
     "execution_count": 4,
     "metadata": {},
     "output_type": "execute_result"
    }
   ],
   "source": [
    "len(ingredients)"
   ]
  },
  {
   "cell_type": "code",
   "execution_count": 5,
   "metadata": {},
   "outputs": [
    {
     "name": "stdout",
     "output_type": "stream",
     "text": [
      "itemprop=\"recipeIngredient\">2 cups angel hair pasta</span>\n",
      "itemprop=\"recipeIngredient\">1/2 cup butter, divided</span>\n",
      "itemprop=\"recipeIngredient\">4 cloves garlic, minced</span>\n",
      "itemprop=\"recipeIngredient\">1 pound uncooked medium shrimp, peeled and deveined</span>\n",
      "itemprop=\"recipeIngredient\">1/2 cup white cooking wine</span>\n",
      "itemprop=\"recipeIngredient\">1 lemon, juiced</span>\n",
      "itemprop=\"recipeIngredient\">1 teaspoon red pepper flakes</span>\n",
      "itemprop=\"recipeIngredient\">3/4 cup seasoned bread crumbs</span>\n",
      "itemprop=\"recipeIngredient\">3/4 cup freshly grated Parmesan cheese, divided</span>\n",
      "itemprop=\"recipeIngredient\">2 tablespoons finely chopped fresh parsley</span>\n"
     ]
    }
   ],
   "source": [
    "update_ingredient = []\n",
    "\n",
    "for i in range(len(ingredients)):\n",
    "    print (ingredients[i])\n",
    "    update_ingredient.append(ingredients[i][28:-7])"
   ]
  },
  {
   "cell_type": "code",
   "execution_count": 6,
   "metadata": {},
   "outputs": [
    {
     "data": {
      "text/plain": [
       "['2 cups angel hair pasta',\n",
       " '1/2 cup butter, divided',\n",
       " '4 cloves garlic, minced',\n",
       " '1 pound uncooked medium shrimp, peeled and deveined',\n",
       " '1/2 cup white cooking wine',\n",
       " '1 lemon, juiced',\n",
       " '1 teaspoon red pepper flakes',\n",
       " '3/4 cup seasoned bread crumbs',\n",
       " '3/4 cup freshly grated Parmesan cheese, divided',\n",
       " '2 tablespoons finely chopped fresh parsley']"
      ]
     },
     "execution_count": 6,
     "metadata": {},
     "output_type": "execute_result"
    }
   ],
   "source": [
    "update_ingredient"
   ]
  },
  {
   "cell_type": "code",
   "execution_count": 7,
   "metadata": {},
   "outputs": [],
   "source": [
    "measurement = ['package', 'packages', 'carton', 'cartons', 'slice', 'slices', 'can', 'cans', 'teaspoon', 'tablespoon', 'cup', 'ounce', 'pint', 'quart', 'gallon', 'pound', 'dash', 'pinch', 'drop', 'peck', 'smidgen', 'saltspoon', 'scruple', 'coffeespoon', 'dessertspoon', 'wineglass', 'gill', 'teacup', 'pottle', 'dram', 'teaspoons', 'tablespoons', 'cups', 'ounces', 'pints', 'quarts', 'gallons', 'pounds', 'dashes', 'pinches', 'drops', 'pecks', 'smidgens', 'saltspoons', 'scruples', 'coffeespoons', 'dessertspoons', 'wineglasses', 'gills', 'teacups', 'pottles', 'drams']"
   ]
  },
  {
   "cell_type": "code",
   "execution_count": 8,
   "metadata": {},
   "outputs": [
    {
     "data": {
      "text/plain": [
       "52"
      ]
     },
     "execution_count": 8,
     "metadata": {},
     "output_type": "execute_result"
    }
   ],
   "source": [
    "len(measurement)"
   ]
  },
  {
   "cell_type": "code",
   "execution_count": 9,
   "metadata": {},
   "outputs": [
    {
     "name": "stdout",
     "output_type": "stream",
     "text": [
      "['4']\n",
      "['1']\n"
     ]
    }
   ],
   "source": [
    "measure = []\n",
    "ingred = []\n",
    "quantity = []\n",
    "for i in range(len(update_ingredient)):\n",
    "    flag = True\n",
    "    for word in update_ingredient[i].lower().split():\n",
    "        if word in measurement:\n",
    "            \n",
    "            ing_quant = update_ingredient[i].split(' '+word+' ')\n",
    "            try: \n",
    "                ingred.append(ing_quant[1])\n",
    "            except:\n",
    "                flag = True\n",
    "                break\n",
    "            measure.append(word)\n",
    "            quantity.append(ing_quant[0])\n",
    "            flag = False\n",
    "            break\n",
    "    if flag:\n",
    "        measure.append(\"None\")\n",
    "        num_pattern = re.compile(r'\\d+\\/\\d+|\\d+')\n",
    "        quan = re.findall(num_pattern, update_ingredient[i]) # only care about the first item, quant always shows at the beginning\n",
    "        if quan:\n",
    "            print (quan)\n",
    "            quantity.append(quan[0])\n",
    "            ingred.append(re.sub(quan[0]+' ', '', update_ingredient[i]))\n",
    "        else:\n",
    "            quantity.append('None')\n",
    "            ingred.append(update_ingredient[i])\n",
    "            \n",
    "        \n",
    "        "
   ]
  },
  {
   "cell_type": "code",
   "execution_count": 10,
   "metadata": {},
   "outputs": [
    {
     "data": {
      "text/plain": [
       "['cups',\n",
       " 'cup',\n",
       " 'None',\n",
       " 'pound',\n",
       " 'cup',\n",
       " 'None',\n",
       " 'teaspoon',\n",
       " 'cup',\n",
       " 'cup',\n",
       " 'tablespoons']"
      ]
     },
     "execution_count": 10,
     "metadata": {},
     "output_type": "execute_result"
    }
   ],
   "source": [
    "measure"
   ]
  },
  {
   "cell_type": "code",
   "execution_count": 11,
   "metadata": {},
   "outputs": [
    {
     "data": {
      "text/plain": [
       "['angel hair pasta',\n",
       " 'butter, divided',\n",
       " 'cloves garlic, minced',\n",
       " 'uncooked medium shrimp, peeled and deveined',\n",
       " 'white cooking wine',\n",
       " 'lemon, juiced',\n",
       " 'red pepper flakes',\n",
       " 'seasoned bread crumbs',\n",
       " 'freshly grated Parmesan cheese, divided',\n",
       " 'finely chopped fresh parsley']"
      ]
     },
     "execution_count": 11,
     "metadata": {},
     "output_type": "execute_result"
    }
   ],
   "source": [
    "ingred"
   ]
  },
  {
   "cell_type": "code",
   "execution_count": 12,
   "metadata": {},
   "outputs": [
    {
     "data": {
      "text/plain": [
       "['2', '1/2', '4', '1', '1/2', '1', '1', '3/4', '3/4', '2']"
      ]
     },
     "execution_count": 12,
     "metadata": {},
     "output_type": "execute_result"
    }
   ],
   "source": [
    "quantity"
   ]
  },
  {
   "cell_type": "code",
   "execution_count": 13,
   "metadata": {},
   "outputs": [
    {
     "name": "stdout",
     "output_type": "stream",
     "text": [
      "['butter', 'divided']\n",
      "['cloves garlic', 'minced']\n",
      "['uncooked medium shrimp', 'peeled and deveined']\n",
      "['lemon', 'juiced']\n",
      "['freshly grated Parmesan cheese', 'divided']\n"
     ]
    }
   ],
   "source": [
    "Descriptor = []\n",
    "Preparation = []\n",
    "refined_ingred = []\n",
    "for item in ingred:\n",
    "    ss = item.split(', ')\n",
    "    if ss[0] != item:\n",
    "        print (ss)\n",
    "        refined_ingred.append(ss[0])\n",
    "        Preparation.append(ss[1:])\n",
    "    else:\n",
    "        Preparation.append('None')\n",
    "        refined_ingred.append(item)"
   ]
  },
  {
   "cell_type": "code",
   "execution_count": 14,
   "metadata": {},
   "outputs": [
    {
     "data": {
      "text/plain": [
       "['angel hair pasta',\n",
       " 'butter',\n",
       " 'cloves garlic',\n",
       " 'uncooked medium shrimp',\n",
       " 'white cooking wine',\n",
       " 'lemon',\n",
       " 'red pepper flakes',\n",
       " 'seasoned bread crumbs',\n",
       " 'freshly grated Parmesan cheese',\n",
       " 'finely chopped fresh parsley']"
      ]
     },
     "execution_count": 14,
     "metadata": {},
     "output_type": "execute_result"
    }
   ],
   "source": [
    "refined_ingred"
   ]
  },
  {
   "cell_type": "code",
   "execution_count": 15,
   "metadata": {},
   "outputs": [
    {
     "data": {
      "text/plain": [
       "['None',\n",
       " ['divided'],\n",
       " ['minced'],\n",
       " ['peeled and deveined'],\n",
       " 'None',\n",
       " ['juiced'],\n",
       " 'None',\n",
       " 'None',\n",
       " ['divided'],\n",
       " 'None']"
      ]
     },
     "execution_count": 15,
     "metadata": {},
     "output_type": "execute_result"
    }
   ],
   "source": [
    "Preparation"
   ]
  },
  {
   "cell_type": "code",
   "execution_count": 16,
   "metadata": {},
   "outputs": [
    {
     "name": "stdout",
     "output_type": "stream",
     "text": [
      "['organic', 'fresh', 'extra-virgin', 'frozen', 'caramelized', 'canned', 'smoked', 'pickled', 'fermented', 'braised', 'marinaded', 'aged', 'cooked', 'uncooked']\n",
      "$$$$$$$$$$$$$$$$$$$\n",
      "['peeled', 'skined', 'sautéed', 'broiling', 'boiled', 'boiling', 'poached', 'fried', 'baked', 'toasted', 'simmering', 'simmeredgrilling', 'grilled', 'chopped', 'grated', 'stirred', 'stirring', 'shaken', 'shakingminced', 'mincingcrushed', 'squeezed', 'greased', 'sprayed', 'melted', 'sprinkled', 'beaten', 'seasoned', 'rolled', 'filled', 'topped', 'whisked', 'browned', 'spreaded', 'mixed', 'heated', 'drained', 'layered', 'layeringfolded', 'marinated', 'dredged', 'wrapped', 'shaped', 'scraped', 'combined', 'dipped', 'blended', 'rendered', 'tossed', 'threaded', 'shredded']\n"
     ]
    }
   ],
   "source": [
    "from DES_PRE import DES_PRE\n",
    "print (DES_PRE['descriptor'])\n",
    "print(\"$$$$$$$$$$$$$$$$$$$\")\n",
    "print (DES_PRE['preparation'])"
   ]
  },
  {
   "cell_type": "code",
   "execution_count": 17,
   "metadata": {},
   "outputs": [
    {
     "name": "stdout",
     "output_type": "stream",
     "text": [
      "[2]\n",
      "[1]\n",
      "finely chopped fresh parsley\n"
     ]
    }
   ],
   "source": [
    "rerefined_ingred = []\n",
    "count = 0\n",
    "for item in refined_ingred:\n",
    "    des_index = []\n",
    "    for descriptor in DES_PRE['descriptor']:\n",
    "        if descriptor in item.lower().split():    #item.find(descriptor) != -1:\n",
    "            des_index.append(item.lower().split().index(descriptor))\n",
    "    if des_index:\n",
    "        max_des_index = max(des_index)\n",
    "    \n",
    "    pre_index = []\n",
    "    for pre in DES_PRE['preparation']:\n",
    "        if pre in item.lower().split(): #item.find(pre) != -1:\n",
    "            pre_index.append(item.lower().split().index(pre))   \n",
    "    if pre_index:\n",
    "        max_pre_index = max(pre_index)\n",
    "    \n",
    "    if des_index and not pre_index:\n",
    "        rerefined_ingred.append(' '.join(item.split()[max_des_index+1:]))\n",
    "        Descriptor.append(' '.join(item.split()[:max_des_index+1]))\n",
    "        Preparation[count] = Preparation[count]\n",
    "    if not des_index and pre_index:\n",
    "        rerefined_ingred.append(' '.join(item.split()[max_pre_index+1:]))\n",
    "        Descriptor.append(\"None\")\n",
    "        if Preparation[count] == \"None\":\n",
    "            Preparation[count] = [' '.join(item.split()[:max_pre_index+1])]\n",
    "        else:\n",
    "            Preparation[count].append(' '.join(item.split()[:max_pre_index+1]))\n",
    "    if des_index and pre_index:\n",
    "        if max_des_index > max_pre_index:\n",
    "            rerefined_ingred.append(' '.join(item.split()[max_des_index+1:]))\n",
    "            if Preparation[count] == \"None\":\n",
    "                Preparation[count] = [' '.join(item.split()[:max_pre_index+1])]\n",
    "            else:\n",
    "                Preparation[count].append(' '.join(item.split()[:max_pre_index+1]))\n",
    "            Descriptor.append(' '.join(item.split()[max_pre_index+1:max_des_index+1]))\n",
    "        else:\n",
    "            rerefined_ingred.append(' '.join(item.split()[max_pre_index+1:]))\n",
    "            if Preparation[count] == \"None\":\n",
    "                Preparation[count] = [' '.join(item.split()[max_des_index+1:max_pre_index+1])]\n",
    "            else:\n",
    "                Preparation[count].append(' '.join(item.split()[max_des_index+1:max_pre_index+1]))\n",
    "            Descriptor.append(' '.join(item.split()[:max_des_index+1]))\n",
    "\n",
    "    if not des_index and not pre_index:\n",
    "        rerefined_ingred.append(item)\n",
    "        Descriptor.append(\"None\")\n",
    "        Preparation[count] = Preparation[count]\n",
    "    count += 1\n",
    "#     if count == 10:\n",
    "#         print (des_index)\n",
    "#         print (pre_index)\n",
    "#         print (item)"
   ]
  },
  {
   "cell_type": "code",
   "execution_count": 18,
   "metadata": {},
   "outputs": [
    {
     "data": {
      "text/plain": [
       "['angel hair pasta',\n",
       " 'butter',\n",
       " 'cloves garlic',\n",
       " 'medium shrimp',\n",
       " 'white cooking wine',\n",
       " 'lemon',\n",
       " 'red pepper flakes',\n",
       " 'bread crumbs',\n",
       " 'Parmesan cheese',\n",
       " 'parsley']"
      ]
     },
     "execution_count": 18,
     "metadata": {},
     "output_type": "execute_result"
    }
   ],
   "source": [
    "rerefined_ingred"
   ]
  },
  {
   "cell_type": "code",
   "execution_count": 19,
   "metadata": {},
   "outputs": [
    {
     "data": {
      "text/plain": [
       "['None',\n",
       " 'None',\n",
       " 'None',\n",
       " 'uncooked',\n",
       " 'None',\n",
       " 'None',\n",
       " 'None',\n",
       " 'None',\n",
       " 'None',\n",
       " 'fresh']"
      ]
     },
     "execution_count": 19,
     "metadata": {},
     "output_type": "execute_result"
    }
   ],
   "source": [
    "Descriptor"
   ]
  },
  {
   "cell_type": "code",
   "execution_count": 20,
   "metadata": {},
   "outputs": [
    {
     "data": {
      "text/plain": [
       "['None',\n",
       " ['divided'],\n",
       " ['minced'],\n",
       " ['peeled and deveined'],\n",
       " 'None',\n",
       " ['juiced'],\n",
       " 'None',\n",
       " ['seasoned'],\n",
       " ['divided', 'freshly grated'],\n",
       " ['finely chopped']]"
      ]
     },
     "execution_count": 20,
     "metadata": {},
     "output_type": "execute_result"
    }
   ],
   "source": [
    "Preparation"
   ]
  },
  {
   "cell_type": "markdown",
   "metadata": {},
   "source": [
    "### nutrition"
   ]
  },
  {
   "cell_type": "code",
   "execution_count": 21,
   "metadata": {},
   "outputs": [],
   "source": [
    "import requests\n",
    "def splitUnit(string):\n",
    "    for idx in range(len(string)):\n",
    "        if not string[idx].isnumeric() and string[idx] != \".\" and string[idx] != \"/\":\n",
    "            return string[:idx], string[idx:]\n",
    "        \n",
    "def scrape_nutrition(recipe_url):\n",
    "        all_res = []\n",
    "        # recipe_url.replace(\"?internalSource=hub%20recipe&referringId=86&referringContentType=Recipe%20Hub\", \"\")\n",
    "        # print (recipe_url)\n",
    "        page_html = requests.get(recipe_url + \"fullrecipenutrition/\")\n",
    "        page_graph = BeautifulSoup(page_html.content, \"lxml\")\n",
    "\n",
    "        for row in page_graph.find_all(\"div\", {\"class\":\"nutrition-row\"}):\n",
    "            res = {}\n",
    "            for span in row.find_all(\"span\"):\n",
    "                if span.get(\"class\"):\n",
    "                    key = span.get(\"class\")[0]\n",
    "                    val = span.text.split(\":\")[0]\n",
    "                    if key == \"nutrient-value\":\n",
    "                        res[key] = splitUnit(val)[0]\n",
    "                        res[\"nutrient-unit\"] = splitUnit(val)[1]\n",
    "                    else:\n",
    "                        res[key] = val\n",
    "            all_res.append(res)\n",
    "        \n",
    "        return all_res\n",
    "\n",
    "nutritions = scrape_nutrition(url)"
   ]
  },
  {
   "cell_type": "code",
   "execution_count": 22,
   "metadata": {},
   "outputs": [
    {
     "data": {
      "text/plain": [
       "[{'nutrient-name': 'Total Fat',\n",
       "  'nutrient-value': '20.8',\n",
       "  'nutrient-unit': 'g',\n",
       "  'daily-value': '32 %'},\n",
       " {'nutrient-name': 'Saturated Fat',\n",
       "  'nutrient-value': '12.0',\n",
       "  'nutrient-unit': 'g'},\n",
       " {'nutrient-name': 'Cholesterol',\n",
       "  'nutrient-value': '165',\n",
       "  'nutrient-unit': 'mg',\n",
       "  'daily-value': '55 %'},\n",
       " {'nutrient-name': 'Sodium',\n",
       "  'nutrient-value': '732',\n",
       "  'nutrient-unit': 'mg',\n",
       "  'daily-value': '29 %'},\n",
       " {'nutrient-name': 'Potassium',\n",
       "  'nutrient-value': '294',\n",
       "  'nutrient-unit': 'mg',\n",
       "  'daily-value': '8 %'},\n",
       " {'nutrient-name': 'Total Carbohydrates',\n",
       "  'nutrient-value': '33.4',\n",
       "  'nutrient-unit': 'g',\n",
       "  'daily-value': '11 %'},\n",
       " {'nutrient-name': 'Dietary Fiber',\n",
       "  'nutrient-value': '3.1',\n",
       "  'nutrient-unit': 'g',\n",
       "  'daily-value': '12 %'},\n",
       " {'nutrient-name': 'Protein',\n",
       "  'nutrient-value': '22.6',\n",
       "  'nutrient-unit': 'g',\n",
       "  'daily-value': '45 %'},\n",
       " {'nutrient-name': 'Sugars', 'nutrient-value': '2', 'nutrient-unit': 'g'},\n",
       " {'nutrient-name': 'Vitamin A',\n",
       "  'nutrient-value': '998',\n",
       "  'nutrient-unit': 'IU'},\n",
       " {'nutrient-name': 'Vitamin C', 'nutrient-value': '19', 'nutrient-unit': 'mg'},\n",
       " {'nutrient-name': 'Calcium', 'nutrient-value': '185', 'nutrient-unit': 'mg'},\n",
       " {'nutrient-name': 'Iron', 'nutrient-value': '4', 'nutrient-unit': 'mg'},\n",
       " {'nutrient-name': 'Thiamin', 'nutrient-value': '0', 'nutrient-unit': 'mg'},\n",
       " {'nutrient-name': 'Niacin', 'nutrient-value': '9', 'nutrient-unit': 'mg'},\n",
       " {'nutrient-name': 'Vitamin B6', 'nutrient-value': '0', 'nutrient-unit': 'mg'},\n",
       " {'nutrient-name': 'Magnesium', 'nutrient-value': '37', 'nutrient-unit': 'mg'},\n",
       " {'nutrient-name': 'Folate', 'nutrient-value': '50', 'nutrient-unit': 'mcg'}]"
      ]
     },
     "execution_count": 22,
     "metadata": {},
     "output_type": "execute_result"
    }
   ],
   "source": [
    "nutritions"
   ]
  },
  {
   "cell_type": "markdown",
   "metadata": {},
   "source": [
    "### double"
   ]
  },
  {
   "cell_type": "code",
   "execution_count": 23,
   "metadata": {},
   "outputs": [
    {
     "name": "stdout",
     "output_type": "stream",
     "text": [
      "{'nutrient-name': 'Total Fat', 'nutrient-value': '20.8', 'nutrient-unit': 'g', 'daily-value': '32 %'}\n",
      "{'nutrient-name': 'Saturated Fat', 'nutrient-value': '12.0', 'nutrient-unit': 'g'}\n",
      "daily-value error\n",
      "{'nutrient-name': 'Cholesterol', 'nutrient-value': '165', 'nutrient-unit': 'mg', 'daily-value': '55 %'}\n",
      "{'nutrient-name': 'Sodium', 'nutrient-value': '732', 'nutrient-unit': 'mg', 'daily-value': '29 %'}\n",
      "{'nutrient-name': 'Potassium', 'nutrient-value': '294', 'nutrient-unit': 'mg', 'daily-value': '8 %'}\n",
      "{'nutrient-name': 'Total Carbohydrates', 'nutrient-value': '33.4', 'nutrient-unit': 'g', 'daily-value': '11 %'}\n",
      "{'nutrient-name': 'Dietary Fiber', 'nutrient-value': '3.1', 'nutrient-unit': 'g', 'daily-value': '12 %'}\n",
      "{'nutrient-name': 'Protein', 'nutrient-value': '22.6', 'nutrient-unit': 'g', 'daily-value': '45 %'}\n",
      "{'nutrient-name': 'Sugars', 'nutrient-value': '2', 'nutrient-unit': 'g'}\n",
      "daily-value error\n",
      "{'nutrient-name': 'Vitamin A', 'nutrient-value': '998', 'nutrient-unit': 'IU'}\n",
      "daily-value error\n",
      "{'nutrient-name': 'Vitamin C', 'nutrient-value': '19', 'nutrient-unit': 'mg'}\n",
      "daily-value error\n",
      "{'nutrient-name': 'Calcium', 'nutrient-value': '185', 'nutrient-unit': 'mg'}\n",
      "daily-value error\n",
      "{'nutrient-name': 'Iron', 'nutrient-value': '4', 'nutrient-unit': 'mg'}\n",
      "daily-value error\n",
      "{'nutrient-name': 'Thiamin', 'nutrient-value': '0', 'nutrient-unit': 'mg'}\n",
      "daily-value error\n",
      "{'nutrient-name': 'Niacin', 'nutrient-value': '9', 'nutrient-unit': 'mg'}\n",
      "daily-value error\n",
      "{'nutrient-name': 'Vitamin B6', 'nutrient-value': '0', 'nutrient-unit': 'mg'}\n",
      "daily-value error\n",
      "{'nutrient-name': 'Magnesium', 'nutrient-value': '37', 'nutrient-unit': 'mg'}\n",
      "daily-value error\n",
      "{'nutrient-name': 'Folate', 'nutrient-value': '50', 'nutrient-unit': 'mcg'}\n",
      "daily-value error\n"
     ]
    }
   ],
   "source": [
    "for item in nutritions:\n",
    "    print (item)\n",
    "    try:\n",
    "        item['nutrient-value'] = str(float(item['nutrient-value'])*2)\n",
    "    except:\n",
    "        print (\"nutrient-value error\")\n",
    "    try:\n",
    "        item['daily-value'] = str(float(item['daily-value'][:-2])*2)\n",
    "        item['daily-value'] += \" %\"\n",
    "    except:\n",
    "        print (\"daily-value error\")"
   ]
  },
  {
   "cell_type": "code",
   "execution_count": 24,
   "metadata": {},
   "outputs": [
    {
     "data": {
      "text/plain": [
       "[{'nutrient-name': 'Total Fat',\n",
       "  'nutrient-value': '41.6',\n",
       "  'nutrient-unit': 'g',\n",
       "  'daily-value': '64.0 %'},\n",
       " {'nutrient-name': 'Saturated Fat',\n",
       "  'nutrient-value': '24.0',\n",
       "  'nutrient-unit': 'g'},\n",
       " {'nutrient-name': 'Cholesterol',\n",
       "  'nutrient-value': '330.0',\n",
       "  'nutrient-unit': 'mg',\n",
       "  'daily-value': '110.0 %'},\n",
       " {'nutrient-name': 'Sodium',\n",
       "  'nutrient-value': '1464.0',\n",
       "  'nutrient-unit': 'mg',\n",
       "  'daily-value': '58.0 %'},\n",
       " {'nutrient-name': 'Potassium',\n",
       "  'nutrient-value': '588.0',\n",
       "  'nutrient-unit': 'mg',\n",
       "  'daily-value': '16.0 %'},\n",
       " {'nutrient-name': 'Total Carbohydrates',\n",
       "  'nutrient-value': '66.8',\n",
       "  'nutrient-unit': 'g',\n",
       "  'daily-value': '22.0 %'},\n",
       " {'nutrient-name': 'Dietary Fiber',\n",
       "  'nutrient-value': '6.2',\n",
       "  'nutrient-unit': 'g',\n",
       "  'daily-value': '24.0 %'},\n",
       " {'nutrient-name': 'Protein',\n",
       "  'nutrient-value': '45.2',\n",
       "  'nutrient-unit': 'g',\n",
       "  'daily-value': '90.0 %'},\n",
       " {'nutrient-name': 'Sugars', 'nutrient-value': '4.0', 'nutrient-unit': 'g'},\n",
       " {'nutrient-name': 'Vitamin A',\n",
       "  'nutrient-value': '1996.0',\n",
       "  'nutrient-unit': 'IU'},\n",
       " {'nutrient-name': 'Vitamin C',\n",
       "  'nutrient-value': '38.0',\n",
       "  'nutrient-unit': 'mg'},\n",
       " {'nutrient-name': 'Calcium',\n",
       "  'nutrient-value': '370.0',\n",
       "  'nutrient-unit': 'mg'},\n",
       " {'nutrient-name': 'Iron', 'nutrient-value': '8.0', 'nutrient-unit': 'mg'},\n",
       " {'nutrient-name': 'Thiamin', 'nutrient-value': '0.0', 'nutrient-unit': 'mg'},\n",
       " {'nutrient-name': 'Niacin', 'nutrient-value': '18.0', 'nutrient-unit': 'mg'},\n",
       " {'nutrient-name': 'Vitamin B6',\n",
       "  'nutrient-value': '0.0',\n",
       "  'nutrient-unit': 'mg'},\n",
       " {'nutrient-name': 'Magnesium',\n",
       "  'nutrient-value': '74.0',\n",
       "  'nutrient-unit': 'mg'},\n",
       " {'nutrient-name': 'Folate',\n",
       "  'nutrient-value': '100.0',\n",
       "  'nutrient-unit': 'mcg'}]"
      ]
     },
     "execution_count": 24,
     "metadata": {},
     "output_type": "execute_result"
    }
   ],
   "source": [
    "nutritions"
   ]
  },
  {
   "cell_type": "code",
   "execution_count": 25,
   "metadata": {},
   "outputs": [
    {
     "name": "stdout",
     "output_type": "stream",
     "text": [
      "2\n",
      "1/2\n",
      "4\n",
      "1\n",
      "1/2\n",
      "1\n",
      "1\n",
      "3/4\n",
      "3/4\n",
      "2\n"
     ]
    }
   ],
   "source": [
    "from fractions import Fraction\n",
    "\n",
    "def mixed_to_float(x):\n",
    "    return float(sum(Fraction(term) for term in x.split()))\n",
    "count = 0\n",
    "for item in quantity:\n",
    "    print (item)\n",
    "    if item.find(\"(\") != -1:\n",
    "        item = item[:item.find(\"(\")-1]\n",
    "    if item.find(\"/\") != -1:\n",
    "        item = mixed_to_float(item)\n",
    "    try:\n",
    "        ori = float(item)\n",
    "        quantity[count] = str(float(item)*2)\n",
    "        if measure[count] != \"None\" and float(quantity[count]) > 1 and ori <= 1:\n",
    "            measure[count] += \"s\"\n",
    "    except:\n",
    "        print (\"quantity error\")\n",
    "    count += 1\n",
    "    "
   ]
  },
  {
   "cell_type": "code",
   "execution_count": 26,
   "metadata": {},
   "outputs": [
    {
     "data": {
      "text/plain": [
       "['4.0', '1.0', '8.0', '2.0', '1.0', '2.0', '2.0', '1.5', '1.5', '4.0']"
      ]
     },
     "execution_count": 26,
     "metadata": {},
     "output_type": "execute_result"
    }
   ],
   "source": [
    "quantity"
   ]
  },
  {
   "cell_type": "code",
   "execution_count": 27,
   "metadata": {},
   "outputs": [
    {
     "data": {
      "text/plain": [
       "['cups',\n",
       " 'cup',\n",
       " 'None',\n",
       " 'pounds',\n",
       " 'cup',\n",
       " 'None',\n",
       " 'teaspoons',\n",
       " 'cups',\n",
       " 'cups',\n",
       " 'tablespoons']"
      ]
     },
     "execution_count": 27,
     "metadata": {},
     "output_type": "execute_result"
    }
   ],
   "source": [
    "measure"
   ]
  },
  {
   "cell_type": "markdown",
   "metadata": {},
   "source": [
    "### half"
   ]
  },
  {
   "cell_type": "code",
   "execution_count": 28,
   "metadata": {},
   "outputs": [
    {
     "name": "stdout",
     "output_type": "stream",
     "text": [
      "{'nutrient-name': 'Total Fat', 'nutrient-value': '41.6', 'nutrient-unit': 'g', 'daily-value': '64.0 %'}\n",
      "{'nutrient-name': 'Saturated Fat', 'nutrient-value': '24.0', 'nutrient-unit': 'g'}\n",
      "daily-value error\n",
      "{'nutrient-name': 'Cholesterol', 'nutrient-value': '330.0', 'nutrient-unit': 'mg', 'daily-value': '110.0 %'}\n",
      "{'nutrient-name': 'Sodium', 'nutrient-value': '1464.0', 'nutrient-unit': 'mg', 'daily-value': '58.0 %'}\n",
      "{'nutrient-name': 'Potassium', 'nutrient-value': '588.0', 'nutrient-unit': 'mg', 'daily-value': '16.0 %'}\n",
      "{'nutrient-name': 'Total Carbohydrates', 'nutrient-value': '66.8', 'nutrient-unit': 'g', 'daily-value': '22.0 %'}\n",
      "{'nutrient-name': 'Dietary Fiber', 'nutrient-value': '6.2', 'nutrient-unit': 'g', 'daily-value': '24.0 %'}\n",
      "{'nutrient-name': 'Protein', 'nutrient-value': '45.2', 'nutrient-unit': 'g', 'daily-value': '90.0 %'}\n",
      "{'nutrient-name': 'Sugars', 'nutrient-value': '4.0', 'nutrient-unit': 'g'}\n",
      "daily-value error\n",
      "{'nutrient-name': 'Vitamin A', 'nutrient-value': '1996.0', 'nutrient-unit': 'IU'}\n",
      "daily-value error\n",
      "{'nutrient-name': 'Vitamin C', 'nutrient-value': '38.0', 'nutrient-unit': 'mg'}\n",
      "daily-value error\n",
      "{'nutrient-name': 'Calcium', 'nutrient-value': '370.0', 'nutrient-unit': 'mg'}\n",
      "daily-value error\n",
      "{'nutrient-name': 'Iron', 'nutrient-value': '8.0', 'nutrient-unit': 'mg'}\n",
      "daily-value error\n",
      "{'nutrient-name': 'Thiamin', 'nutrient-value': '0.0', 'nutrient-unit': 'mg'}\n",
      "daily-value error\n",
      "{'nutrient-name': 'Niacin', 'nutrient-value': '18.0', 'nutrient-unit': 'mg'}\n",
      "daily-value error\n",
      "{'nutrient-name': 'Vitamin B6', 'nutrient-value': '0.0', 'nutrient-unit': 'mg'}\n",
      "daily-value error\n",
      "{'nutrient-name': 'Magnesium', 'nutrient-value': '74.0', 'nutrient-unit': 'mg'}\n",
      "daily-value error\n",
      "{'nutrient-name': 'Folate', 'nutrient-value': '100.0', 'nutrient-unit': 'mcg'}\n",
      "daily-value error\n"
     ]
    }
   ],
   "source": [
    "for item in nutritions:\n",
    "    print (item)\n",
    "    try:\n",
    "        item['nutrient-value'] = str(float(item['nutrient-value'])/2)\n",
    "    except:\n",
    "        print (\"nutrient-value error\")\n",
    "    try:\n",
    "        item['daily-value'] = str(float(item['daily-value'][:-2])/2)\n",
    "        item['daily-value'] += \" %\"\n",
    "    except:\n",
    "        print (\"daily-value error\")"
   ]
  },
  {
   "cell_type": "code",
   "execution_count": 29,
   "metadata": {},
   "outputs": [
    {
     "data": {
      "text/plain": [
       "[{'nutrient-name': 'Total Fat',\n",
       "  'nutrient-value': '20.8',\n",
       "  'nutrient-unit': 'g',\n",
       "  'daily-value': '32.0 %'},\n",
       " {'nutrient-name': 'Saturated Fat',\n",
       "  'nutrient-value': '12.0',\n",
       "  'nutrient-unit': 'g'},\n",
       " {'nutrient-name': 'Cholesterol',\n",
       "  'nutrient-value': '165.0',\n",
       "  'nutrient-unit': 'mg',\n",
       "  'daily-value': '55.0 %'},\n",
       " {'nutrient-name': 'Sodium',\n",
       "  'nutrient-value': '732.0',\n",
       "  'nutrient-unit': 'mg',\n",
       "  'daily-value': '29.0 %'},\n",
       " {'nutrient-name': 'Potassium',\n",
       "  'nutrient-value': '294.0',\n",
       "  'nutrient-unit': 'mg',\n",
       "  'daily-value': '8.0 %'},\n",
       " {'nutrient-name': 'Total Carbohydrates',\n",
       "  'nutrient-value': '33.4',\n",
       "  'nutrient-unit': 'g',\n",
       "  'daily-value': '11.0 %'},\n",
       " {'nutrient-name': 'Dietary Fiber',\n",
       "  'nutrient-value': '3.1',\n",
       "  'nutrient-unit': 'g',\n",
       "  'daily-value': '12.0 %'},\n",
       " {'nutrient-name': 'Protein',\n",
       "  'nutrient-value': '22.6',\n",
       "  'nutrient-unit': 'g',\n",
       "  'daily-value': '45.0 %'},\n",
       " {'nutrient-name': 'Sugars', 'nutrient-value': '2.0', 'nutrient-unit': 'g'},\n",
       " {'nutrient-name': 'Vitamin A',\n",
       "  'nutrient-value': '998.0',\n",
       "  'nutrient-unit': 'IU'},\n",
       " {'nutrient-name': 'Vitamin C',\n",
       "  'nutrient-value': '19.0',\n",
       "  'nutrient-unit': 'mg'},\n",
       " {'nutrient-name': 'Calcium',\n",
       "  'nutrient-value': '185.0',\n",
       "  'nutrient-unit': 'mg'},\n",
       " {'nutrient-name': 'Iron', 'nutrient-value': '4.0', 'nutrient-unit': 'mg'},\n",
       " {'nutrient-name': 'Thiamin', 'nutrient-value': '0.0', 'nutrient-unit': 'mg'},\n",
       " {'nutrient-name': 'Niacin', 'nutrient-value': '9.0', 'nutrient-unit': 'mg'},\n",
       " {'nutrient-name': 'Vitamin B6',\n",
       "  'nutrient-value': '0.0',\n",
       "  'nutrient-unit': 'mg'},\n",
       " {'nutrient-name': 'Magnesium',\n",
       "  'nutrient-value': '37.0',\n",
       "  'nutrient-unit': 'mg'},\n",
       " {'nutrient-name': 'Folate', 'nutrient-value': '50.0', 'nutrient-unit': 'mcg'}]"
      ]
     },
     "execution_count": 29,
     "metadata": {},
     "output_type": "execute_result"
    }
   ],
   "source": [
    "nutritions"
   ]
  },
  {
   "cell_type": "code",
   "execution_count": 30,
   "metadata": {},
   "outputs": [
    {
     "name": "stdout",
     "output_type": "stream",
     "text": [
      "4.0\n",
      "1.0\n",
      "8.0\n",
      "2.0\n",
      "1.0\n",
      "2.0\n",
      "2.0\n",
      "1.5\n",
      "1.5\n",
      "4.0\n"
     ]
    }
   ],
   "source": [
    "count = 0\n",
    "for item in quantity:\n",
    "    print (item)\n",
    "    if item.find(\"(\") != -1:\n",
    "        item = item[:item.find(\"(\")-1]\n",
    "    if item.find(\"/\") != -1:\n",
    "        item = mixed_to_float(item)\n",
    "    try:\n",
    "        ori = float(item)\n",
    "        quantity[count] = str(float(item)/2)\n",
    "        if measure[count] != \"None\" and float(quantity[count]) <= 1 and ori > 1:\n",
    "            measure[count] = measure[count][:-1]   # remove \"s\"\n",
    "    except:\n",
    "        print (\"quantity error\")\n",
    "    count += 1"
   ]
  },
  {
   "cell_type": "code",
   "execution_count": 31,
   "metadata": {},
   "outputs": [
    {
     "data": {
      "text/plain": [
       "['2.0', '0.5', '4.0', '1.0', '0.5', '1.0', '1.0', '0.75', '0.75', '2.0']"
      ]
     },
     "execution_count": 31,
     "metadata": {},
     "output_type": "execute_result"
    }
   ],
   "source": [
    "quantity"
   ]
  },
  {
   "cell_type": "code",
   "execution_count": 32,
   "metadata": {},
   "outputs": [
    {
     "data": {
      "text/plain": [
       "['cups',\n",
       " 'cup',\n",
       " 'None',\n",
       " 'pound',\n",
       " 'cup',\n",
       " 'None',\n",
       " 'teaspoon',\n",
       " 'cup',\n",
       " 'cup',\n",
       " 'tablespoons']"
      ]
     },
     "execution_count": 32,
     "metadata": {},
     "output_type": "execute_result"
    }
   ],
   "source": [
    "measure"
   ]
  },
  {
   "cell_type": "code",
   "execution_count": null,
   "metadata": {},
   "outputs": [],
   "source": []
  }
 ],
 "metadata": {
  "kernelspec": {
   "display_name": "Python 3",
   "language": "python",
   "name": "python3"
  },
  "language_info": {
   "codemirror_mode": {
    "name": "ipython",
    "version": 3
   },
   "file_extension": ".py",
   "mimetype": "text/x-python",
   "name": "python",
   "nbconvert_exporter": "python",
   "pygments_lexer": "ipython3",
   "version": "3.7.6"
  }
 },
 "nbformat": 4,
 "nbformat_minor": 2
}
