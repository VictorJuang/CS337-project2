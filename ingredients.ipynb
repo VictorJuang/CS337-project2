{
 "cells": [
  {
   "cell_type": "code",
   "execution_count": 1,
   "metadata": {},
   "outputs": [],
   "source": [
    "from bs4 import BeautifulSoup\n",
    "import urllib.parse\n",
    "import urllib.request\n",
    "import re\n",
    "url = \"https://www.allrecipes.com/recipe/53729/fish-tacos/\"\n",
    "#url = \"https://www.allrecipes.com/recipe/15925/creamy-au-gratin-potatoes/\"\n",
    "#url = \"https://www.allrecipes.com/recipe/277943/slow-cooker-loaded-potato-soup/?internalSource=previously%20viewed&referringContentType=Homepage&clickId=cardslot%2018\"\n",
    "#url = \"https://www.allrecipes.com/recipe/273326/parmesan-crusted-shrimp-scampi-with-pasta/?internalSource=previously%20viewed&referringContentType=Homepage&clickId=cardslot%202\"\n",
    "#url = \"https://www.allrecipes.com/recipe/277917/slow-cooker-cheesy-cauliflower-casserole/?internalSource=popular&referringContentType=Homepage&clickId=cardslot%205\"\n",
    "req = urllib.request.Request(url)\n",
    "req.add_header('Cookie', 'euConsent=true')\n",
    "\n",
    "html_content = urllib.request.urlopen(req).read()\n",
    "soup = BeautifulSoup(html_content, 'html.parser')"
   ]
  },
  {
   "cell_type": "code",
   "execution_count": 2,
   "metadata": {},
   "outputs": [],
   "source": [
    "ingredient_pattern = re.compile(r'itemprop=\"recipeIngredient\">(?:(?!itemprop=\"recipeIngredient\">|<\\/span>)[\\s\\S])*<\\/span>')\n",
    "\n",
    "#ingredients = re.findall(ingredient_pattern, 'itemprop=\"recipeIngredient\">1/4 cup chicken broth</span>')\n",
    "ingredients = re.findall(ingredient_pattern, str(soup))"
   ]
  },
  {
   "cell_type": "code",
   "execution_count": 3,
   "metadata": {},
   "outputs": [
    {
     "data": {
      "text/plain": [
       "['itemprop=\"recipeIngredient\">1 cup all-purpose flour</span>',\n",
       " 'itemprop=\"recipeIngredient\">2 tablespoons cornstarch</span>',\n",
       " 'itemprop=\"recipeIngredient\">1 teaspoon baking powder</span>',\n",
       " 'itemprop=\"recipeIngredient\">1/2 teaspoon salt</span>',\n",
       " 'itemprop=\"recipeIngredient\">1 egg</span>',\n",
       " 'itemprop=\"recipeIngredient\">1 cup beer</span>',\n",
       " 'itemprop=\"recipeIngredient\">1/2 cup plain yogurt</span>',\n",
       " 'itemprop=\"recipeIngredient\">1/2 cup mayonnaise</span>',\n",
       " 'itemprop=\"recipeIngredient\">1 lime, juiced</span>',\n",
       " 'itemprop=\"recipeIngredient\">1 jalapeno pepper, minced</span>',\n",
       " 'itemprop=\"recipeIngredient\">1 teaspoon minced capers</span>',\n",
       " 'itemprop=\"recipeIngredient\">1/2 teaspoon dried oregano</span>',\n",
       " 'itemprop=\"recipeIngredient\">1/2 teaspoon ground cumin</span>',\n",
       " 'itemprop=\"recipeIngredient\">1/2 teaspoon dried dill weed</span>',\n",
       " 'itemprop=\"recipeIngredient\">1 teaspoon ground cayenne pepper</span>',\n",
       " 'itemprop=\"recipeIngredient\">1 quart oil for frying</span>',\n",
       " 'itemprop=\"recipeIngredient\">1 pound cod fillets, cut into 2 to 3 ounce portions</span>',\n",
       " 'itemprop=\"recipeIngredient\">1 (12 ounce) package corn tortillas</span>',\n",
       " 'itemprop=\"recipeIngredient\">1/2 medium head cabbage, finely shredded</span>']"
      ]
     },
     "execution_count": 3,
     "metadata": {},
     "output_type": "execute_result"
    }
   ],
   "source": [
    "ingredients"
   ]
  },
  {
   "cell_type": "code",
   "execution_count": null,
   "metadata": {},
   "outputs": [],
   "source": []
  },
  {
   "cell_type": "code",
   "execution_count": 4,
   "metadata": {},
   "outputs": [
    {
     "data": {
      "text/plain": [
       "19"
      ]
     },
     "execution_count": 4,
     "metadata": {},
     "output_type": "execute_result"
    }
   ],
   "source": [
    "len(ingredients)"
   ]
  },
  {
   "cell_type": "code",
   "execution_count": 5,
   "metadata": {},
   "outputs": [
    {
     "name": "stdout",
     "output_type": "stream",
     "text": [
      "itemprop=\"recipeIngredient\">1 cup all-purpose flour</span>\n",
      "itemprop=\"recipeIngredient\">2 tablespoons cornstarch</span>\n",
      "itemprop=\"recipeIngredient\">1 teaspoon baking powder</span>\n",
      "itemprop=\"recipeIngredient\">1/2 teaspoon salt</span>\n",
      "itemprop=\"recipeIngredient\">1 egg</span>\n",
      "itemprop=\"recipeIngredient\">1 cup beer</span>\n",
      "itemprop=\"recipeIngredient\">1/2 cup plain yogurt</span>\n",
      "itemprop=\"recipeIngredient\">1/2 cup mayonnaise</span>\n",
      "itemprop=\"recipeIngredient\">1 lime, juiced</span>\n",
      "itemprop=\"recipeIngredient\">1 jalapeno pepper, minced</span>\n",
      "itemprop=\"recipeIngredient\">1 teaspoon minced capers</span>\n",
      "itemprop=\"recipeIngredient\">1/2 teaspoon dried oregano</span>\n",
      "itemprop=\"recipeIngredient\">1/2 teaspoon ground cumin</span>\n",
      "itemprop=\"recipeIngredient\">1/2 teaspoon dried dill weed</span>\n",
      "itemprop=\"recipeIngredient\">1 teaspoon ground cayenne pepper</span>\n",
      "itemprop=\"recipeIngredient\">1 quart oil for frying</span>\n",
      "itemprop=\"recipeIngredient\">1 pound cod fillets, cut into 2 to 3 ounce portions</span>\n",
      "itemprop=\"recipeIngredient\">1 (12 ounce) package corn tortillas</span>\n",
      "itemprop=\"recipeIngredient\">1/2 medium head cabbage, finely shredded</span>\n"
     ]
    }
   ],
   "source": [
    "update_ingredient = []\n",
    "\n",
    "for i in range(len(ingredients)):\n",
    "    print (ingredients[i])\n",
    "    update_ingredient.append(ingredients[i][28:-7])"
   ]
  },
  {
   "cell_type": "code",
   "execution_count": 6,
   "metadata": {},
   "outputs": [
    {
     "data": {
      "text/plain": [
       "['1 cup all-purpose flour',\n",
       " '2 tablespoons cornstarch',\n",
       " '1 teaspoon baking powder',\n",
       " '1/2 teaspoon salt',\n",
       " '1 egg',\n",
       " '1 cup beer',\n",
       " '1/2 cup plain yogurt',\n",
       " '1/2 cup mayonnaise',\n",
       " '1 lime, juiced',\n",
       " '1 jalapeno pepper, minced',\n",
       " '1 teaspoon minced capers',\n",
       " '1/2 teaspoon dried oregano',\n",
       " '1/2 teaspoon ground cumin',\n",
       " '1/2 teaspoon dried dill weed',\n",
       " '1 teaspoon ground cayenne pepper',\n",
       " '1 quart oil for frying',\n",
       " '1 pound cod fillets, cut into 2 to 3 ounce portions',\n",
       " '1 (12 ounce) package corn tortillas',\n",
       " '1/2 medium head cabbage, finely shredded']"
      ]
     },
     "execution_count": 6,
     "metadata": {},
     "output_type": "execute_result"
    }
   ],
   "source": [
    "update_ingredient"
   ]
  },
  {
   "cell_type": "code",
   "execution_count": 7,
   "metadata": {},
   "outputs": [],
   "source": [
    "measurement = ['package', 'packages', 'carton', 'cartons', 'slice', 'slices', 'can', 'cans', 'teaspoon', 'tablespoon', 'cup', 'ounce', 'pint', 'quart', 'gallon', 'pound', 'dash', 'pinch', 'drop', 'peck', 'smidgen', 'saltspoon', 'scruple', 'coffeespoon', 'dessertspoon', 'wineglass', 'gill', 'teacup', 'pottle', 'dram', 'teaspoons', 'tablespoons', 'cups', 'ounces', 'pints', 'quarts', 'gallons', 'pounds', 'dashes', 'pinches', 'drops', 'pecks', 'smidgens', 'saltspoons', 'scruples', 'coffeespoons', 'dessertspoons', 'wineglasses', 'gills', 'teacups', 'pottles', 'drams']"
   ]
  },
  {
   "cell_type": "code",
   "execution_count": 8,
   "metadata": {},
   "outputs": [
    {
     "data": {
      "text/plain": [
       "52"
      ]
     },
     "execution_count": 8,
     "metadata": {},
     "output_type": "execute_result"
    }
   ],
   "source": [
    "len(measurement)"
   ]
  },
  {
   "cell_type": "code",
   "execution_count": 9,
   "metadata": {},
   "outputs": [
    {
     "name": "stdout",
     "output_type": "stream",
     "text": [
      "['1']\n",
      "['1']\n",
      "['1']\n",
      "['1/2']\n"
     ]
    }
   ],
   "source": [
    "measure = []\n",
    "ingred = []\n",
    "quantity = []\n",
    "for i in range(len(update_ingredient)):\n",
    "    flag = True\n",
    "    for word in update_ingredient[i].lower().split():\n",
    "        if word in measurement:\n",
    "            if \n",
    "            measure.append(word)\n",
    "            ing_quant = update_ingredient[i].split(' '+word+' ')\n",
    "            try: \n",
    "                ingred.append(ing_quant[1])\n",
    "            except:\n",
    "                flag = True\n",
    "                break\n",
    "            quantity.append(ing_quant[0])\n",
    "            flag = False\n",
    "            break\n",
    "    if flag:\n",
    "        measure.append(\"None\")\n",
    "        num_pattern = re.compile(r'\\d+\\/\\d+|\\d+')\n",
    "        quan = re.findall(num_pattern, update_ingredient[i]) # only care about the first item, quant always shows at the beginning\n",
    "        if quan:\n",
    "            print (quan)\n",
    "            quantity.append(quan[0])\n",
    "            ingred.append(re.sub(quan[0]+' ', '', update_ingredient[i]))\n",
    "        else:\n",
    "            ingred.append(update_ingredient[i])\n",
    "            \n",
    "        \n",
    "        "
   ]
  },
  {
   "cell_type": "code",
   "execution_count": 10,
   "metadata": {},
   "outputs": [
    {
     "data": {
      "text/plain": [
       "['cup',\n",
       " 'tablespoons',\n",
       " 'teaspoon',\n",
       " 'teaspoon',\n",
       " 'None',\n",
       " 'cup',\n",
       " 'cup',\n",
       " 'cup',\n",
       " 'None',\n",
       " 'None',\n",
       " 'teaspoon',\n",
       " 'teaspoon',\n",
       " 'teaspoon',\n",
       " 'teaspoon',\n",
       " 'teaspoon',\n",
       " 'quart',\n",
       " 'pound',\n",
       " 'package',\n",
       " 'None']"
      ]
     },
     "execution_count": 10,
     "metadata": {},
     "output_type": "execute_result"
    }
   ],
   "source": [
    "measure"
   ]
  },
  {
   "cell_type": "code",
   "execution_count": 11,
   "metadata": {},
   "outputs": [
    {
     "data": {
      "text/plain": [
       "['all-purpose flour',\n",
       " 'cornstarch',\n",
       " 'baking powder',\n",
       " 'salt',\n",
       " 'egg',\n",
       " 'beer',\n",
       " 'plain yogurt',\n",
       " 'mayonnaise',\n",
       " 'lime, juiced',\n",
       " 'jalapeno pepper, minced',\n",
       " 'minced capers',\n",
       " 'dried oregano',\n",
       " 'ground cumin',\n",
       " 'dried dill weed',\n",
       " 'ground cayenne pepper',\n",
       " 'oil for frying',\n",
       " 'cod fillets, cut into 2 to 3 ounce portions',\n",
       " 'corn tortillas',\n",
       " 'medium head cabbage, finely shredded']"
      ]
     },
     "execution_count": 11,
     "metadata": {},
     "output_type": "execute_result"
    }
   ],
   "source": [
    "ingred"
   ]
  },
  {
   "cell_type": "code",
   "execution_count": 12,
   "metadata": {},
   "outputs": [
    {
     "data": {
      "text/plain": [
       "['1',\n",
       " '2',\n",
       " '1',\n",
       " '1/2',\n",
       " '1',\n",
       " '1',\n",
       " '1/2',\n",
       " '1/2',\n",
       " '1',\n",
       " '1',\n",
       " '1',\n",
       " '1/2',\n",
       " '1/2',\n",
       " '1/2',\n",
       " '1',\n",
       " '1',\n",
       " '1',\n",
       " '1 (12 ounce)',\n",
       " '1/2']"
      ]
     },
     "execution_count": 12,
     "metadata": {},
     "output_type": "execute_result"
    }
   ],
   "source": [
    "quantity"
   ]
  },
  {
   "cell_type": "code",
   "execution_count": 13,
   "metadata": {},
   "outputs": [
    {
     "name": "stdout",
     "output_type": "stream",
     "text": [
      "['lime', 'juiced']\n",
      "['jalapeno pepper', 'minced']\n",
      "['cod fillets', 'cut into 2 to 3 ounce portions']\n",
      "['medium head cabbage', 'finely shredded']\n"
     ]
    }
   ],
   "source": [
    "Descriptor = []\n",
    "Preparation = []\n",
    "refined_ingred = []\n",
    "for item in ingred:\n",
    "    ss = item.split(', ')\n",
    "    if ss[0] != item:\n",
    "        print (ss)\n",
    "        refined_ingred.append(ss[0])\n",
    "        Preparation.append(ss[1:])\n",
    "    else:\n",
    "        Preparation.append('None')\n",
    "        refined_ingred.append(item)"
   ]
  },
  {
   "cell_type": "code",
   "execution_count": 14,
   "metadata": {},
   "outputs": [
    {
     "data": {
      "text/plain": [
       "['all-purpose flour',\n",
       " 'cornstarch',\n",
       " 'baking powder',\n",
       " 'salt',\n",
       " 'egg',\n",
       " 'beer',\n",
       " 'plain yogurt',\n",
       " 'mayonnaise',\n",
       " 'lime',\n",
       " 'jalapeno pepper',\n",
       " 'minced capers',\n",
       " 'dried oregano',\n",
       " 'ground cumin',\n",
       " 'dried dill weed',\n",
       " 'ground cayenne pepper',\n",
       " 'oil for frying',\n",
       " 'cod fillets',\n",
       " 'corn tortillas',\n",
       " 'medium head cabbage']"
      ]
     },
     "execution_count": 14,
     "metadata": {},
     "output_type": "execute_result"
    }
   ],
   "source": [
    "refined_ingred"
   ]
  },
  {
   "cell_type": "code",
   "execution_count": 15,
   "metadata": {},
   "outputs": [
    {
     "data": {
      "text/plain": [
       "['None',\n",
       " 'None',\n",
       " 'None',\n",
       " 'None',\n",
       " 'None',\n",
       " 'None',\n",
       " 'None',\n",
       " 'None',\n",
       " ['juiced'],\n",
       " ['minced'],\n",
       " 'None',\n",
       " 'None',\n",
       " 'None',\n",
       " 'None',\n",
       " 'None',\n",
       " 'None',\n",
       " ['cut into 2 to 3 ounce portions'],\n",
       " 'None',\n",
       " ['finely shredded']]"
      ]
     },
     "execution_count": 15,
     "metadata": {},
     "output_type": "execute_result"
    }
   ],
   "source": [
    "Preparation"
   ]
  },
  {
   "cell_type": "markdown",
   "metadata": {},
   "source": [
    "### nutrition"
   ]
  },
  {
   "cell_type": "code",
   "execution_count": 16,
   "metadata": {},
   "outputs": [],
   "source": [
    "import requests\n",
    "def splitUnit(string):\n",
    "    for idx in range(len(string)):\n",
    "        if not string[idx].isnumeric() and string[idx] != \".\" and string[idx] != \"/\":\n",
    "            return string[:idx], string[idx:]\n",
    "        \n",
    "def scrape_nutrition(recipe_url):\n",
    "        all_res = []\n",
    "        # recipe_url.replace(\"?internalSource=hub%20recipe&referringId=86&referringContentType=Recipe%20Hub\", \"\")\n",
    "        # print (recipe_url)\n",
    "        page_html = requests.get(recipe_url + \"fullrecipenutrition/\")\n",
    "        page_graph = BeautifulSoup(page_html.content, \"lxml\")\n",
    "\n",
    "        for row in page_graph.find_all(\"div\", {\"class\":\"nutrition-row\"}):\n",
    "            res = {}\n",
    "            for span in row.find_all(\"span\"):\n",
    "                if span.get(\"class\"):\n",
    "                    key = span.get(\"class\")[0]\n",
    "                    val = span.text.split(\":\")[0]\n",
    "                    if key == \"nutrient-value\":\n",
    "                        res[key] = splitUnit(val)[0]\n",
    "                        res[\"nutrient-unit\"] = splitUnit(val)[1]\n",
    "                    else:\n",
    "                        res[key] = val\n",
    "            all_res.append(res)\n",
    "        \n",
    "        return all_res\n",
    "\n",
    "nutritions = scrape_nutrition(url)"
   ]
  },
  {
   "cell_type": "code",
   "execution_count": 17,
   "metadata": {},
   "outputs": [
    {
     "data": {
      "text/plain": [
       "[{'nutrient-name': 'Total Fat',\n",
       "  'nutrient-value': '18.8',\n",
       "  'nutrient-unit': 'g',\n",
       "  'daily-value': '29 %'},\n",
       " {'nutrient-name': 'Saturated Fat',\n",
       "  'nutrient-value': '3.0',\n",
       "  'nutrient-unit': 'g'},\n",
       " {'nutrient-name': 'Cholesterol',\n",
       "  'nutrient-value': '54',\n",
       "  'nutrient-unit': 'mg',\n",
       "  'daily-value': '18 %'},\n",
       " {'nutrient-name': 'Sodium',\n",
       "  'nutrient-value': '407',\n",
       "  'nutrient-unit': 'mg',\n",
       "  'daily-value': '16 %'},\n",
       " {'nutrient-name': 'Potassium',\n",
       "  'nutrient-value': '511',\n",
       "  'nutrient-unit': 'mg',\n",
       "  'daily-value': '14 %'},\n",
       " {'nutrient-name': 'Total Carbohydrates',\n",
       "  'nutrient-value': '43',\n",
       "  'nutrient-unit': 'g',\n",
       "  'daily-value': '14 %'},\n",
       " {'nutrient-name': 'Dietary Fiber',\n",
       "  'nutrient-value': '4.9',\n",
       "  'nutrient-unit': 'g',\n",
       "  'daily-value': '20 %'},\n",
       " {'nutrient-name': 'Protein',\n",
       "  'nutrient-value': '17.3',\n",
       "  'nutrient-unit': 'g',\n",
       "  'daily-value': '35 %'},\n",
       " {'nutrient-name': 'Sugars', 'nutrient-value': '5', 'nutrient-unit': 'g'},\n",
       " {'nutrient-name': 'Vitamin A',\n",
       "  'nutrient-value': '251',\n",
       "  'nutrient-unit': 'IU'},\n",
       " {'nutrient-name': 'Vitamin C', 'nutrient-value': '25', 'nutrient-unit': 'mg'},\n",
       " {'nutrient-name': 'Calcium', 'nutrient-value': '145', 'nutrient-unit': 'mg'},\n",
       " {'nutrient-name': 'Iron', 'nutrient-value': '2', 'nutrient-unit': 'mg'},\n",
       " {'nutrient-name': 'Thiamin', 'nutrient-value': '0', 'nutrient-unit': 'mg'},\n",
       " {'nutrient-name': 'Niacin', 'nutrient-value': '3', 'nutrient-unit': 'mg'},\n",
       " {'nutrient-name': 'Vitamin B6', 'nutrient-value': '0', 'nutrient-unit': 'mg'},\n",
       " {'nutrient-name': 'Magnesium', 'nutrient-value': '49', 'nutrient-unit': 'mg'},\n",
       " {'nutrient-name': 'Folate', 'nutrient-value': '65', 'nutrient-unit': 'mcg'}]"
      ]
     },
     "execution_count": 17,
     "metadata": {},
     "output_type": "execute_result"
    }
   ],
   "source": [
    "nutritions"
   ]
  },
  {
   "cell_type": "code",
   "execution_count": 18,
   "metadata": {},
   "outputs": [
    {
     "name": "stdout",
     "output_type": "stream",
     "text": [
      "{'nutrient-name': 'Total Fat', 'nutrient-value': '18.8', 'nutrient-unit': 'g', 'daily-value': '29 %'}\n",
      "{'nutrient-name': 'Saturated Fat', 'nutrient-value': '3.0', 'nutrient-unit': 'g'}\n",
      "daily-value error\n",
      "{'nutrient-name': 'Cholesterol', 'nutrient-value': '54', 'nutrient-unit': 'mg', 'daily-value': '18 %'}\n",
      "{'nutrient-name': 'Sodium', 'nutrient-value': '407', 'nutrient-unit': 'mg', 'daily-value': '16 %'}\n",
      "{'nutrient-name': 'Potassium', 'nutrient-value': '511', 'nutrient-unit': 'mg', 'daily-value': '14 %'}\n",
      "{'nutrient-name': 'Total Carbohydrates', 'nutrient-value': '43', 'nutrient-unit': 'g', 'daily-value': '14 %'}\n",
      "{'nutrient-name': 'Dietary Fiber', 'nutrient-value': '4.9', 'nutrient-unit': 'g', 'daily-value': '20 %'}\n",
      "{'nutrient-name': 'Protein', 'nutrient-value': '17.3', 'nutrient-unit': 'g', 'daily-value': '35 %'}\n",
      "{'nutrient-name': 'Sugars', 'nutrient-value': '5', 'nutrient-unit': 'g'}\n",
      "daily-value error\n",
      "{'nutrient-name': 'Vitamin A', 'nutrient-value': '251', 'nutrient-unit': 'IU'}\n",
      "daily-value error\n",
      "{'nutrient-name': 'Vitamin C', 'nutrient-value': '25', 'nutrient-unit': 'mg'}\n",
      "daily-value error\n",
      "{'nutrient-name': 'Calcium', 'nutrient-value': '145', 'nutrient-unit': 'mg'}\n",
      "daily-value error\n",
      "{'nutrient-name': 'Iron', 'nutrient-value': '2', 'nutrient-unit': 'mg'}\n",
      "daily-value error\n",
      "{'nutrient-name': 'Thiamin', 'nutrient-value': '0', 'nutrient-unit': 'mg'}\n",
      "daily-value error\n",
      "{'nutrient-name': 'Niacin', 'nutrient-value': '3', 'nutrient-unit': 'mg'}\n",
      "daily-value error\n",
      "{'nutrient-name': 'Vitamin B6', 'nutrient-value': '0', 'nutrient-unit': 'mg'}\n",
      "daily-value error\n",
      "{'nutrient-name': 'Magnesium', 'nutrient-value': '49', 'nutrient-unit': 'mg'}\n",
      "daily-value error\n",
      "{'nutrient-name': 'Folate', 'nutrient-value': '65', 'nutrient-unit': 'mcg'}\n",
      "daily-value error\n"
     ]
    }
   ],
   "source": [
    "for item in nutritions:\n",
    "    print (item)\n",
    "    try:\n",
    "        item['nutrient-value'] = str(float(item['nutrient-value'])*2)\n",
    "    except:\n",
    "        print (\"nutrient-value error\")\n",
    "    try:\n",
    "        item['daily-value'] = str(float(item['daily-value'][:-2])*2)\n",
    "        item['daily-value'] += \" %\"\n",
    "    except:\n",
    "        print (\"daily-value error\")"
   ]
  },
  {
   "cell_type": "code",
   "execution_count": 19,
   "metadata": {},
   "outputs": [
    {
     "data": {
      "text/plain": [
       "[{'nutrient-name': 'Total Fat',\n",
       "  'nutrient-value': '37.6',\n",
       "  'nutrient-unit': 'g',\n",
       "  'daily-value': '58.0 %'},\n",
       " {'nutrient-name': 'Saturated Fat',\n",
       "  'nutrient-value': '6.0',\n",
       "  'nutrient-unit': 'g'},\n",
       " {'nutrient-name': 'Cholesterol',\n",
       "  'nutrient-value': '108.0',\n",
       "  'nutrient-unit': 'mg',\n",
       "  'daily-value': '36.0 %'},\n",
       " {'nutrient-name': 'Sodium',\n",
       "  'nutrient-value': '814.0',\n",
       "  'nutrient-unit': 'mg',\n",
       "  'daily-value': '32.0 %'},\n",
       " {'nutrient-name': 'Potassium',\n",
       "  'nutrient-value': '1022.0',\n",
       "  'nutrient-unit': 'mg',\n",
       "  'daily-value': '28.0 %'},\n",
       " {'nutrient-name': 'Total Carbohydrates',\n",
       "  'nutrient-value': '86.0',\n",
       "  'nutrient-unit': 'g',\n",
       "  'daily-value': '28.0 %'},\n",
       " {'nutrient-name': 'Dietary Fiber',\n",
       "  'nutrient-value': '9.8',\n",
       "  'nutrient-unit': 'g',\n",
       "  'daily-value': '40.0 %'},\n",
       " {'nutrient-name': 'Protein',\n",
       "  'nutrient-value': '34.6',\n",
       "  'nutrient-unit': 'g',\n",
       "  'daily-value': '70.0 %'},\n",
       " {'nutrient-name': 'Sugars', 'nutrient-value': '10.0', 'nutrient-unit': 'g'},\n",
       " {'nutrient-name': 'Vitamin A',\n",
       "  'nutrient-value': '502.0',\n",
       "  'nutrient-unit': 'IU'},\n",
       " {'nutrient-name': 'Vitamin C',\n",
       "  'nutrient-value': '50.0',\n",
       "  'nutrient-unit': 'mg'},\n",
       " {'nutrient-name': 'Calcium',\n",
       "  'nutrient-value': '290.0',\n",
       "  'nutrient-unit': 'mg'},\n",
       " {'nutrient-name': 'Iron', 'nutrient-value': '4.0', 'nutrient-unit': 'mg'},\n",
       " {'nutrient-name': 'Thiamin', 'nutrient-value': '0.0', 'nutrient-unit': 'mg'},\n",
       " {'nutrient-name': 'Niacin', 'nutrient-value': '6.0', 'nutrient-unit': 'mg'},\n",
       " {'nutrient-name': 'Vitamin B6',\n",
       "  'nutrient-value': '0.0',\n",
       "  'nutrient-unit': 'mg'},\n",
       " {'nutrient-name': 'Magnesium',\n",
       "  'nutrient-value': '98.0',\n",
       "  'nutrient-unit': 'mg'},\n",
       " {'nutrient-name': 'Folate',\n",
       "  'nutrient-value': '130.0',\n",
       "  'nutrient-unit': 'mcg'}]"
      ]
     },
     "execution_count": 19,
     "metadata": {},
     "output_type": "execute_result"
    }
   ],
   "source": [
    "nutritions"
   ]
  },
  {
   "cell_type": "code",
   "execution_count": 20,
   "metadata": {},
   "outputs": [
    {
     "name": "stdout",
     "output_type": "stream",
     "text": [
      "1\n",
      "2\n",
      "1\n",
      "1/2\n",
      "quantity error\n",
      "1\n",
      "1\n",
      "1/2\n",
      "quantity error\n",
      "1/2\n",
      "quantity error\n",
      "1\n",
      "1\n",
      "1\n",
      "1/2\n",
      "quantity error\n",
      "1/2\n",
      "quantity error\n",
      "1/2\n",
      "quantity error\n",
      "1\n",
      "1\n",
      "1\n",
      "1 (12 ounce)\n",
      "1/2\n",
      "quantity error\n"
     ]
    }
   ],
   "source": [
    "from fractions import Fraction\n",
    "\n",
    "for item in quantity:\n",
    "    print (item)\n",
    "    if item.find(\"(\") != -1:\n",
    "        item = item[:item.find(\"(\")-1]\n",
    "    if item.find(\"/\") != -1:\n",
    "        Fraction(item)\n",
    "    try:\n",
    "        item = str(float(item)*2)\n",
    "    except:\n",
    "        print (\"quantity error\")\n",
    "    "
   ]
  },
  {
   "cell_type": "code",
   "execution_count": null,
   "metadata": {},
   "outputs": [],
   "source": []
  }
 ],
 "metadata": {
  "kernelspec": {
   "display_name": "Python 3",
   "language": "python",
   "name": "python3"
  },
  "language_info": {
   "codemirror_mode": {
    "name": "ipython",
    "version": 3
   },
   "file_extension": ".py",
   "mimetype": "text/x-python",
   "name": "python",
   "nbconvert_exporter": "python",
   "pygments_lexer": "ipython3",
   "version": "3.7.6"
  }
 },
 "nbformat": 4,
 "nbformat_minor": 2
}
