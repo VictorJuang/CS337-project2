{
 "cells": [
  {
   "cell_type": "code",
   "execution_count": 1,
   "metadata": {},
   "outputs": [],
   "source": [
    "from bs4 import BeautifulSoup\n",
    "import urllib.parse\n",
    "import urllib.request\n",
    "import re\n",
    "#url = \"https://www.allrecipes.com/recipe/53729/fish-tacos/\"\n",
    "#url = \"https://www.allrecipes.com/recipe/15925/creamy-au-gratin-potatoes/\"\n",
    "#url = \"https://www.allrecipes.com/recipe/277943/slow-cooker-loaded-potato-soup/\"\n",
    "#url = \"https://www.allrecipes.com/recipe/273326/parmesan-crusted-shrimp-scampi-with-pasta/\"\n",
    "url = \"https://www.allrecipes.com/recipe/277917/slow-cooker-cheesy-cauliflower-casserole/\"\n",
    "req = urllib.request.Request(url)\n",
    "req.add_header('Cookie', 'euConsent=true')\n",
    "\n",
    "html_content = urllib.request.urlopen(req).read()\n",
    "soup = BeautifulSoup(html_content, 'html.parser')"
   ]
  },
  {
   "cell_type": "code",
   "execution_count": 2,
   "metadata": {},
   "outputs": [],
   "source": [
    "ingredient_pattern = re.compile(r'itemprop=\"recipeIngredient\">(?:(?!itemprop=\"recipeIngredient\">|<\\/span>)[\\s\\S])*<\\/span>')\n",
    "\n",
    "#ingredients = re.findall(ingredient_pattern, 'itemprop=\"recipeIngredient\">1/4 cup chicken broth</span>')\n",
    "ingredients = re.findall(ingredient_pattern, str(soup))"
   ]
  },
  {
   "cell_type": "code",
   "execution_count": 3,
   "metadata": {},
   "outputs": [
    {
     "data": {
      "text/plain": [
       "['itemprop=\"recipeIngredient\">3 slices bacon</span>',\n",
       " 'itemprop=\"recipeIngredient\">nonstick cooking spray</span>',\n",
       " 'itemprop=\"recipeIngredient\">1 medium head cauliflower, cut into florets</span>',\n",
       " 'itemprop=\"recipeIngredient\">1/4 cup chicken broth</span>',\n",
       " 'itemprop=\"recipeIngredient\">1/2 teaspoon salt</span>',\n",
       " 'itemprop=\"recipeIngredient\">1/4 teaspoon pepper</span>',\n",
       " 'itemprop=\"recipeIngredient\">1/4 teaspoon ground turmeric (optional)</span>',\n",
       " 'itemprop=\"recipeIngredient\">1 (10.75 ounce) can cream of chicken soup (such as Campbell\\'s®)</span>',\n",
       " 'itemprop=\"recipeIngredient\">1/2 cup shredded mozzarella cheese</span>',\n",
       " 'itemprop=\"recipeIngredient\">1/2 cup shredded Cheddar cheese</span>',\n",
       " 'itemprop=\"recipeIngredient\">1 scallion, green part only, thinly sliced</span>']"
      ]
     },
     "execution_count": 3,
     "metadata": {},
     "output_type": "execute_result"
    }
   ],
   "source": [
    "ingredients"
   ]
  },
  {
   "cell_type": "code",
   "execution_count": null,
   "metadata": {},
   "outputs": [],
   "source": []
  },
  {
   "cell_type": "code",
   "execution_count": 4,
   "metadata": {},
   "outputs": [
    {
     "data": {
      "text/plain": [
       "11"
      ]
     },
     "execution_count": 4,
     "metadata": {},
     "output_type": "execute_result"
    }
   ],
   "source": [
    "len(ingredients)"
   ]
  },
  {
   "cell_type": "code",
   "execution_count": 5,
   "metadata": {},
   "outputs": [
    {
     "name": "stdout",
     "output_type": "stream",
     "text": [
      "itemprop=\"recipeIngredient\">3 slices bacon</span>\n",
      "itemprop=\"recipeIngredient\">nonstick cooking spray</span>\n",
      "itemprop=\"recipeIngredient\">1 medium head cauliflower, cut into florets</span>\n",
      "itemprop=\"recipeIngredient\">1/4 cup chicken broth</span>\n",
      "itemprop=\"recipeIngredient\">1/2 teaspoon salt</span>\n",
      "itemprop=\"recipeIngredient\">1/4 teaspoon pepper</span>\n",
      "itemprop=\"recipeIngredient\">1/4 teaspoon ground turmeric (optional)</span>\n",
      "itemprop=\"recipeIngredient\">1 (10.75 ounce) can cream of chicken soup (such as Campbell's®)</span>\n",
      "itemprop=\"recipeIngredient\">1/2 cup shredded mozzarella cheese</span>\n",
      "itemprop=\"recipeIngredient\">1/2 cup shredded Cheddar cheese</span>\n",
      "itemprop=\"recipeIngredient\">1 scallion, green part only, thinly sliced</span>\n"
     ]
    }
   ],
   "source": [
    "update_ingredient = []\n",
    "\n",
    "for i in range(len(ingredients)):\n",
    "    print (ingredients[i])\n",
    "    update_ingredient.append(ingredients[i][28:-7])"
   ]
  },
  {
   "cell_type": "code",
   "execution_count": 6,
   "metadata": {},
   "outputs": [
    {
     "data": {
      "text/plain": [
       "['3 slices bacon',\n",
       " 'nonstick cooking spray',\n",
       " '1 medium head cauliflower, cut into florets',\n",
       " '1/4 cup chicken broth',\n",
       " '1/2 teaspoon salt',\n",
       " '1/4 teaspoon pepper',\n",
       " '1/4 teaspoon ground turmeric (optional)',\n",
       " \"1 (10.75 ounce) can cream of chicken soup (such as Campbell's®)\",\n",
       " '1/2 cup shredded mozzarella cheese',\n",
       " '1/2 cup shredded Cheddar cheese',\n",
       " '1 scallion, green part only, thinly sliced']"
      ]
     },
     "execution_count": 6,
     "metadata": {},
     "output_type": "execute_result"
    }
   ],
   "source": [
    "update_ingredient"
   ]
  },
  {
   "cell_type": "code",
   "execution_count": 7,
   "metadata": {},
   "outputs": [],
   "source": [
    "measurement = ['package', 'packages', 'carton', 'cartons', 'slice', 'slices', 'can', 'cans', 'teaspoon', 'tablespoon', 'cup', 'ounce', 'pint', 'quart', 'gallon', 'pound', 'dash', 'pinch', 'drop', 'peck', 'smidgen', 'saltspoon', 'scruple', 'coffeespoon', 'dessertspoon', 'wineglass', 'gill', 'teacup', 'pottle', 'dram', 'teaspoons', 'tablespoons', 'cups', 'ounces', 'pints', 'quarts', 'gallons', 'pounds', 'dashes', 'pinches', 'drops', 'pecks', 'smidgens', 'saltspoons', 'scruples', 'coffeespoons', 'dessertspoons', 'wineglasses', 'gills', 'teacups', 'pottles', 'drams']"
   ]
  },
  {
   "cell_type": "code",
   "execution_count": 8,
   "metadata": {},
   "outputs": [
    {
     "data": {
      "text/plain": [
       "52"
      ]
     },
     "execution_count": 8,
     "metadata": {},
     "output_type": "execute_result"
    }
   ],
   "source": [
    "len(measurement)"
   ]
  },
  {
   "cell_type": "code",
   "execution_count": 9,
   "metadata": {},
   "outputs": [
    {
     "name": "stdout",
     "output_type": "stream",
     "text": [
      "['1']\n",
      "['1']\n"
     ]
    }
   ],
   "source": [
    "measure = []\n",
    "ingred = []\n",
    "quantity = []\n",
    "for i in range(len(update_ingredient)):\n",
    "    flag = True\n",
    "    for word in update_ingredient[i].lower().split():\n",
    "        if word in measurement:\n",
    "            \n",
    "            ing_quant = update_ingredient[i].split(' '+word+' ')\n",
    "            try: \n",
    "                ingred.append(ing_quant[1])\n",
    "            except:\n",
    "                flag = True\n",
    "                break\n",
    "            measure.append(word)\n",
    "            quantity.append(ing_quant[0])\n",
    "            flag = False\n",
    "            break\n",
    "    if flag:\n",
    "        measure.append(\"None\")\n",
    "        num_pattern = re.compile(r'\\d+\\/\\d+|\\d+')\n",
    "        quan = re.findall(num_pattern, update_ingredient[i]) # only care about the first item, quant always shows at the beginning\n",
    "        if quan:\n",
    "            print (quan)\n",
    "            quantity.append(quan[0])\n",
    "            ingred.append(re.sub(quan[0]+' ', '', update_ingredient[i]))\n",
    "        else:\n",
    "            quantity.append('None')\n",
    "            ingred.append(update_ingredient[i])\n",
    "            \n",
    "        \n",
    "        "
   ]
  },
  {
   "cell_type": "code",
   "execution_count": 10,
   "metadata": {},
   "outputs": [
    {
     "data": {
      "text/plain": [
       "['slices',\n",
       " 'None',\n",
       " 'None',\n",
       " 'cup',\n",
       " 'teaspoon',\n",
       " 'teaspoon',\n",
       " 'teaspoon',\n",
       " 'can',\n",
       " 'cup',\n",
       " 'cup',\n",
       " 'None']"
      ]
     },
     "execution_count": 10,
     "metadata": {},
     "output_type": "execute_result"
    }
   ],
   "source": [
    "measure"
   ]
  },
  {
   "cell_type": "code",
   "execution_count": 11,
   "metadata": {},
   "outputs": [
    {
     "data": {
      "text/plain": [
       "['bacon',\n",
       " 'nonstick cooking spray',\n",
       " 'medium head cauliflower, cut into florets',\n",
       " 'chicken broth',\n",
       " 'salt',\n",
       " 'pepper',\n",
       " 'ground turmeric (optional)',\n",
       " \"cream of chicken soup (such as Campbell's®)\",\n",
       " 'shredded mozzarella cheese',\n",
       " 'shredded Cheddar cheese',\n",
       " 'scallion, green part only, thinly sliced']"
      ]
     },
     "execution_count": 11,
     "metadata": {},
     "output_type": "execute_result"
    }
   ],
   "source": [
    "ingred"
   ]
  },
  {
   "cell_type": "code",
   "execution_count": 12,
   "metadata": {},
   "outputs": [
    {
     "data": {
      "text/plain": [
       "['3',\n",
       " 'None',\n",
       " '1',\n",
       " '1/4',\n",
       " '1/2',\n",
       " '1/4',\n",
       " '1/4',\n",
       " '1 (10.75 ounce)',\n",
       " '1/2',\n",
       " '1/2',\n",
       " '1']"
      ]
     },
     "execution_count": 12,
     "metadata": {},
     "output_type": "execute_result"
    }
   ],
   "source": [
    "quantity"
   ]
  },
  {
   "cell_type": "code",
   "execution_count": 13,
   "metadata": {},
   "outputs": [
    {
     "name": "stdout",
     "output_type": "stream",
     "text": [
      "['medium head cauliflower', 'cut into florets']\n",
      "['scallion', 'green part only', 'thinly sliced']\n"
     ]
    }
   ],
   "source": [
    "Descriptor = []\n",
    "Preparation = []\n",
    "refined_ingred = []\n",
    "for item in ingred:\n",
    "    ss = item.split(', ')\n",
    "    if ss[0] != item:\n",
    "        print (ss)\n",
    "        refined_ingred.append(ss[0])\n",
    "        Preparation.append(ss[1:])\n",
    "    else:\n",
    "        Preparation.append('None')\n",
    "        refined_ingred.append(item)"
   ]
  },
  {
   "cell_type": "code",
   "execution_count": 14,
   "metadata": {},
   "outputs": [
    {
     "data": {
      "text/plain": [
       "['bacon',\n",
       " 'nonstick cooking spray',\n",
       " 'medium head cauliflower',\n",
       " 'chicken broth',\n",
       " 'salt',\n",
       " 'pepper',\n",
       " 'ground turmeric (optional)',\n",
       " \"cream of chicken soup (such as Campbell's®)\",\n",
       " 'shredded mozzarella cheese',\n",
       " 'shredded Cheddar cheese',\n",
       " 'scallion']"
      ]
     },
     "execution_count": 14,
     "metadata": {},
     "output_type": "execute_result"
    }
   ],
   "source": [
    "refined_ingred"
   ]
  },
  {
   "cell_type": "code",
   "execution_count": 15,
   "metadata": {},
   "outputs": [
    {
     "data": {
      "text/plain": [
       "['None',\n",
       " 'None',\n",
       " ['cut into florets'],\n",
       " 'None',\n",
       " 'None',\n",
       " 'None',\n",
       " 'None',\n",
       " 'None',\n",
       " 'None',\n",
       " 'None',\n",
       " ['green part only', 'thinly sliced']]"
      ]
     },
     "execution_count": 15,
     "metadata": {},
     "output_type": "execute_result"
    }
   ],
   "source": [
    "Preparation"
   ]
  },
  {
   "cell_type": "markdown",
   "metadata": {},
   "source": [
    "### nutrition"
   ]
  },
  {
   "cell_type": "code",
   "execution_count": 16,
   "metadata": {},
   "outputs": [],
   "source": [
    "import requests\n",
    "def splitUnit(string):\n",
    "    for idx in range(len(string)):\n",
    "        if not string[idx].isnumeric() and string[idx] != \".\" and string[idx] != \"/\":\n",
    "            return string[:idx], string[idx:]\n",
    "        \n",
    "def scrape_nutrition(recipe_url):\n",
    "        all_res = []\n",
    "        # recipe_url.replace(\"?internalSource=hub%20recipe&referringId=86&referringContentType=Recipe%20Hub\", \"\")\n",
    "        # print (recipe_url)\n",
    "        page_html = requests.get(recipe_url + \"fullrecipenutrition/\")\n",
    "        page_graph = BeautifulSoup(page_html.content, \"lxml\")\n",
    "\n",
    "        for row in page_graph.find_all(\"div\", {\"class\":\"nutrition-row\"}):\n",
    "            res = {}\n",
    "            for span in row.find_all(\"span\"):\n",
    "                if span.get(\"class\"):\n",
    "                    key = span.get(\"class\")[0]\n",
    "                    val = span.text.split(\":\")[0]\n",
    "                    if key == \"nutrient-value\":\n",
    "                        res[key] = splitUnit(val)[0]\n",
    "                        res[\"nutrient-unit\"] = splitUnit(val)[1]\n",
    "                    else:\n",
    "                        res[key] = val\n",
    "            all_res.append(res)\n",
    "        \n",
    "        return all_res\n",
    "\n",
    "nutritions = scrape_nutrition(url)"
   ]
  },
  {
   "cell_type": "code",
   "execution_count": 17,
   "metadata": {},
   "outputs": [
    {
     "data": {
      "text/plain": [
       "[{'nutrient-name': 'Total Fat',\n",
       "  'nutrient-value': '15.4',\n",
       "  'nutrient-unit': 'g',\n",
       "  'daily-value': '24 %'},\n",
       " {'nutrient-name': 'Saturated Fat',\n",
       "  'nutrient-value': '7.0',\n",
       "  'nutrient-unit': 'g'},\n",
       " {'nutrient-name': 'Cholesterol',\n",
       "  'nutrient-value': '41',\n",
       "  'nutrient-unit': 'mg',\n",
       "  'daily-value': '14 %'},\n",
       " {'nutrient-name': 'Sodium',\n",
       "  'nutrient-value': '1248',\n",
       "  'nutrient-unit': 'mg',\n",
       "  'daily-value': '50 %'},\n",
       " {'nutrient-name': 'Potassium',\n",
       "  'nutrient-value': '464',\n",
       "  'nutrient-unit': 'mg',\n",
       "  'daily-value': '13 %'},\n",
       " {'nutrient-name': 'Total Carbohydrates',\n",
       "  'nutrient-value': '12.7',\n",
       "  'nutrient-unit': 'g',\n",
       "  'daily-value': '4 %'},\n",
       " {'nutrient-name': 'Dietary Fiber',\n",
       "  'nutrient-value': '3',\n",
       "  'nutrient-unit': 'g',\n",
       "  'daily-value': '12 %'},\n",
       " {'nutrient-name': 'Protein',\n",
       "  'nutrient-value': '14.5',\n",
       "  'nutrient-unit': 'g',\n",
       "  'daily-value': '29 %'},\n",
       " {'nutrient-name': 'Sugars', 'nutrient-value': '4', 'nutrient-unit': 'g'},\n",
       " {'nutrient-name': 'Vitamin A',\n",
       "  'nutrient-value': '435',\n",
       "  'nutrient-unit': 'IU'},\n",
       " {'nutrient-name': 'Vitamin C', 'nutrient-value': '54', 'nutrient-unit': 'mg'},\n",
       " {'nutrient-name': 'Calcium', 'nutrient-value': '275', 'nutrient-unit': 'mg'},\n",
       " {'nutrient-name': 'Iron', 'nutrient-value': '2', 'nutrient-unit': 'mg'},\n",
       " {'nutrient-name': 'Thiamin', 'nutrient-value': '0', 'nutrient-unit': 'mg'},\n",
       " {'nutrient-name': 'Niacin', 'nutrient-value': '5', 'nutrient-unit': 'mg'},\n",
       " {'nutrient-name': 'Vitamin B6', 'nutrient-value': '0', 'nutrient-unit': 'mg'},\n",
       " {'nutrient-name': 'Magnesium', 'nutrient-value': '32', 'nutrient-unit': 'mg'},\n",
       " {'nutrient-name': 'Folate', 'nutrient-value': '73', 'nutrient-unit': 'mcg'}]"
      ]
     },
     "execution_count": 17,
     "metadata": {},
     "output_type": "execute_result"
    }
   ],
   "source": [
    "nutritions"
   ]
  },
  {
   "cell_type": "markdown",
   "metadata": {},
   "source": [
    "### double"
   ]
  },
  {
   "cell_type": "code",
   "execution_count": 18,
   "metadata": {},
   "outputs": [
    {
     "name": "stdout",
     "output_type": "stream",
     "text": [
      "{'nutrient-name': 'Total Fat', 'nutrient-value': '15.4', 'nutrient-unit': 'g', 'daily-value': '24 %'}\n",
      "{'nutrient-name': 'Saturated Fat', 'nutrient-value': '7.0', 'nutrient-unit': 'g'}\n",
      "daily-value error\n",
      "{'nutrient-name': 'Cholesterol', 'nutrient-value': '41', 'nutrient-unit': 'mg', 'daily-value': '14 %'}\n",
      "{'nutrient-name': 'Sodium', 'nutrient-value': '1248', 'nutrient-unit': 'mg', 'daily-value': '50 %'}\n",
      "{'nutrient-name': 'Potassium', 'nutrient-value': '464', 'nutrient-unit': 'mg', 'daily-value': '13 %'}\n",
      "{'nutrient-name': 'Total Carbohydrates', 'nutrient-value': '12.7', 'nutrient-unit': 'g', 'daily-value': '4 %'}\n",
      "{'nutrient-name': 'Dietary Fiber', 'nutrient-value': '3', 'nutrient-unit': 'g', 'daily-value': '12 %'}\n",
      "{'nutrient-name': 'Protein', 'nutrient-value': '14.5', 'nutrient-unit': 'g', 'daily-value': '29 %'}\n",
      "{'nutrient-name': 'Sugars', 'nutrient-value': '4', 'nutrient-unit': 'g'}\n",
      "daily-value error\n",
      "{'nutrient-name': 'Vitamin A', 'nutrient-value': '435', 'nutrient-unit': 'IU'}\n",
      "daily-value error\n",
      "{'nutrient-name': 'Vitamin C', 'nutrient-value': '54', 'nutrient-unit': 'mg'}\n",
      "daily-value error\n",
      "{'nutrient-name': 'Calcium', 'nutrient-value': '275', 'nutrient-unit': 'mg'}\n",
      "daily-value error\n",
      "{'nutrient-name': 'Iron', 'nutrient-value': '2', 'nutrient-unit': 'mg'}\n",
      "daily-value error\n",
      "{'nutrient-name': 'Thiamin', 'nutrient-value': '0', 'nutrient-unit': 'mg'}\n",
      "daily-value error\n",
      "{'nutrient-name': 'Niacin', 'nutrient-value': '5', 'nutrient-unit': 'mg'}\n",
      "daily-value error\n",
      "{'nutrient-name': 'Vitamin B6', 'nutrient-value': '0', 'nutrient-unit': 'mg'}\n",
      "daily-value error\n",
      "{'nutrient-name': 'Magnesium', 'nutrient-value': '32', 'nutrient-unit': 'mg'}\n",
      "daily-value error\n",
      "{'nutrient-name': 'Folate', 'nutrient-value': '73', 'nutrient-unit': 'mcg'}\n",
      "daily-value error\n"
     ]
    }
   ],
   "source": [
    "for item in nutritions:\n",
    "    print (item)\n",
    "    try:\n",
    "        item['nutrient-value'] = str(float(item['nutrient-value'])*2)\n",
    "    except:\n",
    "        print (\"nutrient-value error\")\n",
    "    try:\n",
    "        item['daily-value'] = str(float(item['daily-value'][:-2])*2)\n",
    "        item['daily-value'] += \" %\"\n",
    "    except:\n",
    "        print (\"daily-value error\")"
   ]
  },
  {
   "cell_type": "code",
   "execution_count": 19,
   "metadata": {},
   "outputs": [
    {
     "data": {
      "text/plain": [
       "[{'nutrient-name': 'Total Fat',\n",
       "  'nutrient-value': '30.8',\n",
       "  'nutrient-unit': 'g',\n",
       "  'daily-value': '48.0 %'},\n",
       " {'nutrient-name': 'Saturated Fat',\n",
       "  'nutrient-value': '14.0',\n",
       "  'nutrient-unit': 'g'},\n",
       " {'nutrient-name': 'Cholesterol',\n",
       "  'nutrient-value': '82.0',\n",
       "  'nutrient-unit': 'mg',\n",
       "  'daily-value': '28.0 %'},\n",
       " {'nutrient-name': 'Sodium',\n",
       "  'nutrient-value': '2496.0',\n",
       "  'nutrient-unit': 'mg',\n",
       "  'daily-value': '100.0 %'},\n",
       " {'nutrient-name': 'Potassium',\n",
       "  'nutrient-value': '928.0',\n",
       "  'nutrient-unit': 'mg',\n",
       "  'daily-value': '26.0 %'},\n",
       " {'nutrient-name': 'Total Carbohydrates',\n",
       "  'nutrient-value': '25.4',\n",
       "  'nutrient-unit': 'g',\n",
       "  'daily-value': '8.0 %'},\n",
       " {'nutrient-name': 'Dietary Fiber',\n",
       "  'nutrient-value': '6.0',\n",
       "  'nutrient-unit': 'g',\n",
       "  'daily-value': '24.0 %'},\n",
       " {'nutrient-name': 'Protein',\n",
       "  'nutrient-value': '29.0',\n",
       "  'nutrient-unit': 'g',\n",
       "  'daily-value': '58.0 %'},\n",
       " {'nutrient-name': 'Sugars', 'nutrient-value': '8.0', 'nutrient-unit': 'g'},\n",
       " {'nutrient-name': 'Vitamin A',\n",
       "  'nutrient-value': '870.0',\n",
       "  'nutrient-unit': 'IU'},\n",
       " {'nutrient-name': 'Vitamin C',\n",
       "  'nutrient-value': '108.0',\n",
       "  'nutrient-unit': 'mg'},\n",
       " {'nutrient-name': 'Calcium',\n",
       "  'nutrient-value': '550.0',\n",
       "  'nutrient-unit': 'mg'},\n",
       " {'nutrient-name': 'Iron', 'nutrient-value': '4.0', 'nutrient-unit': 'mg'},\n",
       " {'nutrient-name': 'Thiamin', 'nutrient-value': '0.0', 'nutrient-unit': 'mg'},\n",
       " {'nutrient-name': 'Niacin', 'nutrient-value': '10.0', 'nutrient-unit': 'mg'},\n",
       " {'nutrient-name': 'Vitamin B6',\n",
       "  'nutrient-value': '0.0',\n",
       "  'nutrient-unit': 'mg'},\n",
       " {'nutrient-name': 'Magnesium',\n",
       "  'nutrient-value': '64.0',\n",
       "  'nutrient-unit': 'mg'},\n",
       " {'nutrient-name': 'Folate',\n",
       "  'nutrient-value': '146.0',\n",
       "  'nutrient-unit': 'mcg'}]"
      ]
     },
     "execution_count": 19,
     "metadata": {},
     "output_type": "execute_result"
    }
   ],
   "source": [
    "nutritions"
   ]
  },
  {
   "cell_type": "code",
   "execution_count": 20,
   "metadata": {},
   "outputs": [
    {
     "name": "stdout",
     "output_type": "stream",
     "text": [
      "3\n",
      "None\n",
      "quantity error\n",
      "1\n",
      "1/4\n",
      "1/2\n",
      "1/4\n",
      "1/4\n",
      "1 (10.75 ounce)\n",
      "1/2\n",
      "1/2\n",
      "1\n"
     ]
    }
   ],
   "source": [
    "from fractions import Fraction\n",
    "\n",
    "def mixed_to_float(x):\n",
    "    return float(sum(Fraction(term) for term in x.split()))\n",
    "count = 0\n",
    "for item in quantity:\n",
    "    print (item)\n",
    "    if item.find(\"(\") != -1:\n",
    "        item = item[:item.find(\"(\")-1]\n",
    "    if item.find(\"/\") != -1:\n",
    "        item = mixed_to_float(item)\n",
    "    try:\n",
    "        ori = float(item)\n",
    "        quantity[count] = str(float(item)*2)\n",
    "        if measure[count] != \"None\" and float(quantity[count]) > 1 and ori <= 1:\n",
    "            measure[count] += \"s\"\n",
    "    except:\n",
    "        print (\"quantity error\")\n",
    "    count += 1\n",
    "    "
   ]
  },
  {
   "cell_type": "code",
   "execution_count": 21,
   "metadata": {},
   "outputs": [
    {
     "data": {
      "text/plain": [
       "['6.0', 'None', '2.0', '0.5', '1.0', '0.5', '0.5', '2.0', '1.0', '1.0', '2.0']"
      ]
     },
     "execution_count": 21,
     "metadata": {},
     "output_type": "execute_result"
    }
   ],
   "source": [
    "quantity"
   ]
  },
  {
   "cell_type": "code",
   "execution_count": 22,
   "metadata": {},
   "outputs": [
    {
     "data": {
      "text/plain": [
       "['slices',\n",
       " 'None',\n",
       " 'None',\n",
       " 'cup',\n",
       " 'teaspoon',\n",
       " 'teaspoon',\n",
       " 'teaspoon',\n",
       " 'cans',\n",
       " 'cup',\n",
       " 'cup',\n",
       " 'None']"
      ]
     },
     "execution_count": 22,
     "metadata": {},
     "output_type": "execute_result"
    }
   ],
   "source": [
    "measure"
   ]
  },
  {
   "cell_type": "markdown",
   "metadata": {},
   "source": [
    "### half"
   ]
  },
  {
   "cell_type": "code",
   "execution_count": 23,
   "metadata": {},
   "outputs": [
    {
     "name": "stdout",
     "output_type": "stream",
     "text": [
      "{'nutrient-name': 'Total Fat', 'nutrient-value': '30.8', 'nutrient-unit': 'g', 'daily-value': '48.0 %'}\n",
      "{'nutrient-name': 'Saturated Fat', 'nutrient-value': '14.0', 'nutrient-unit': 'g'}\n",
      "daily-value error\n",
      "{'nutrient-name': 'Cholesterol', 'nutrient-value': '82.0', 'nutrient-unit': 'mg', 'daily-value': '28.0 %'}\n",
      "{'nutrient-name': 'Sodium', 'nutrient-value': '2496.0', 'nutrient-unit': 'mg', 'daily-value': '100.0 %'}\n",
      "{'nutrient-name': 'Potassium', 'nutrient-value': '928.0', 'nutrient-unit': 'mg', 'daily-value': '26.0 %'}\n",
      "{'nutrient-name': 'Total Carbohydrates', 'nutrient-value': '25.4', 'nutrient-unit': 'g', 'daily-value': '8.0 %'}\n",
      "{'nutrient-name': 'Dietary Fiber', 'nutrient-value': '6.0', 'nutrient-unit': 'g', 'daily-value': '24.0 %'}\n",
      "{'nutrient-name': 'Protein', 'nutrient-value': '29.0', 'nutrient-unit': 'g', 'daily-value': '58.0 %'}\n",
      "{'nutrient-name': 'Sugars', 'nutrient-value': '8.0', 'nutrient-unit': 'g'}\n",
      "daily-value error\n",
      "{'nutrient-name': 'Vitamin A', 'nutrient-value': '870.0', 'nutrient-unit': 'IU'}\n",
      "daily-value error\n",
      "{'nutrient-name': 'Vitamin C', 'nutrient-value': '108.0', 'nutrient-unit': 'mg'}\n",
      "daily-value error\n",
      "{'nutrient-name': 'Calcium', 'nutrient-value': '550.0', 'nutrient-unit': 'mg'}\n",
      "daily-value error\n",
      "{'nutrient-name': 'Iron', 'nutrient-value': '4.0', 'nutrient-unit': 'mg'}\n",
      "daily-value error\n",
      "{'nutrient-name': 'Thiamin', 'nutrient-value': '0.0', 'nutrient-unit': 'mg'}\n",
      "daily-value error\n",
      "{'nutrient-name': 'Niacin', 'nutrient-value': '10.0', 'nutrient-unit': 'mg'}\n",
      "daily-value error\n",
      "{'nutrient-name': 'Vitamin B6', 'nutrient-value': '0.0', 'nutrient-unit': 'mg'}\n",
      "daily-value error\n",
      "{'nutrient-name': 'Magnesium', 'nutrient-value': '64.0', 'nutrient-unit': 'mg'}\n",
      "daily-value error\n",
      "{'nutrient-name': 'Folate', 'nutrient-value': '146.0', 'nutrient-unit': 'mcg'}\n",
      "daily-value error\n"
     ]
    }
   ],
   "source": [
    "for item in nutritions:\n",
    "    print (item)\n",
    "    try:\n",
    "        item['nutrient-value'] = str(float(item['nutrient-value'])/2)\n",
    "    except:\n",
    "        print (\"nutrient-value error\")\n",
    "    try:\n",
    "        item['daily-value'] = str(float(item['daily-value'][:-2])/2)\n",
    "        item['daily-value'] += \" %\"\n",
    "    except:\n",
    "        print (\"daily-value error\")"
   ]
  },
  {
   "cell_type": "code",
   "execution_count": 24,
   "metadata": {},
   "outputs": [
    {
     "data": {
      "text/plain": [
       "[{'nutrient-name': 'Total Fat',\n",
       "  'nutrient-value': '15.4',\n",
       "  'nutrient-unit': 'g',\n",
       "  'daily-value': '24.0 %'},\n",
       " {'nutrient-name': 'Saturated Fat',\n",
       "  'nutrient-value': '7.0',\n",
       "  'nutrient-unit': 'g'},\n",
       " {'nutrient-name': 'Cholesterol',\n",
       "  'nutrient-value': '41.0',\n",
       "  'nutrient-unit': 'mg',\n",
       "  'daily-value': '14.0 %'},\n",
       " {'nutrient-name': 'Sodium',\n",
       "  'nutrient-value': '1248.0',\n",
       "  'nutrient-unit': 'mg',\n",
       "  'daily-value': '50.0 %'},\n",
       " {'nutrient-name': 'Potassium',\n",
       "  'nutrient-value': '464.0',\n",
       "  'nutrient-unit': 'mg',\n",
       "  'daily-value': '13.0 %'},\n",
       " {'nutrient-name': 'Total Carbohydrates',\n",
       "  'nutrient-value': '12.7',\n",
       "  'nutrient-unit': 'g',\n",
       "  'daily-value': '4.0 %'},\n",
       " {'nutrient-name': 'Dietary Fiber',\n",
       "  'nutrient-value': '3.0',\n",
       "  'nutrient-unit': 'g',\n",
       "  'daily-value': '12.0 %'},\n",
       " {'nutrient-name': 'Protein',\n",
       "  'nutrient-value': '14.5',\n",
       "  'nutrient-unit': 'g',\n",
       "  'daily-value': '29.0 %'},\n",
       " {'nutrient-name': 'Sugars', 'nutrient-value': '4.0', 'nutrient-unit': 'g'},\n",
       " {'nutrient-name': 'Vitamin A',\n",
       "  'nutrient-value': '435.0',\n",
       "  'nutrient-unit': 'IU'},\n",
       " {'nutrient-name': 'Vitamin C',\n",
       "  'nutrient-value': '54.0',\n",
       "  'nutrient-unit': 'mg'},\n",
       " {'nutrient-name': 'Calcium',\n",
       "  'nutrient-value': '275.0',\n",
       "  'nutrient-unit': 'mg'},\n",
       " {'nutrient-name': 'Iron', 'nutrient-value': '2.0', 'nutrient-unit': 'mg'},\n",
       " {'nutrient-name': 'Thiamin', 'nutrient-value': '0.0', 'nutrient-unit': 'mg'},\n",
       " {'nutrient-name': 'Niacin', 'nutrient-value': '5.0', 'nutrient-unit': 'mg'},\n",
       " {'nutrient-name': 'Vitamin B6',\n",
       "  'nutrient-value': '0.0',\n",
       "  'nutrient-unit': 'mg'},\n",
       " {'nutrient-name': 'Magnesium',\n",
       "  'nutrient-value': '32.0',\n",
       "  'nutrient-unit': 'mg'},\n",
       " {'nutrient-name': 'Folate', 'nutrient-value': '73.0', 'nutrient-unit': 'mcg'}]"
      ]
     },
     "execution_count": 24,
     "metadata": {},
     "output_type": "execute_result"
    }
   ],
   "source": [
    "nutritions"
   ]
  },
  {
   "cell_type": "code",
   "execution_count": 25,
   "metadata": {},
   "outputs": [
    {
     "name": "stdout",
     "output_type": "stream",
     "text": [
      "6.0\n",
      "None\n",
      "quantity error\n",
      "2.0\n",
      "0.5\n",
      "1.0\n",
      "0.5\n",
      "0.5\n",
      "2.0\n",
      "1.0\n",
      "1.0\n",
      "2.0\n"
     ]
    }
   ],
   "source": [
    "count = 0\n",
    "for item in quantity:\n",
    "    print (item)\n",
    "    if item.find(\"(\") != -1:\n",
    "        item = item[:item.find(\"(\")-1]\n",
    "    if item.find(\"/\") != -1:\n",
    "        item = mixed_to_float(item)\n",
    "    try:\n",
    "        ori = float(item)\n",
    "        quantity[count] = str(float(item)/2)\n",
    "        if measure[count] != \"None\" and float(quantity[count]) <= 1 and ori > 1:\n",
    "            measure[count] = measure[count][:-1]   # remove \"s\"\n",
    "    except:\n",
    "        print (\"quantity error\")\n",
    "    count += 1"
   ]
  },
  {
   "cell_type": "code",
   "execution_count": 26,
   "metadata": {},
   "outputs": [
    {
     "data": {
      "text/plain": [
       "['3.0',\n",
       " 'None',\n",
       " '1.0',\n",
       " '0.25',\n",
       " '0.5',\n",
       " '0.25',\n",
       " '0.25',\n",
       " '1.0',\n",
       " '0.5',\n",
       " '0.5',\n",
       " '1.0']"
      ]
     },
     "execution_count": 26,
     "metadata": {},
     "output_type": "execute_result"
    }
   ],
   "source": [
    "quantity"
   ]
  },
  {
   "cell_type": "code",
   "execution_count": 27,
   "metadata": {},
   "outputs": [
    {
     "data": {
      "text/plain": [
       "['slices',\n",
       " 'None',\n",
       " 'None',\n",
       " 'cup',\n",
       " 'teaspoon',\n",
       " 'teaspoon',\n",
       " 'teaspoon',\n",
       " 'can',\n",
       " 'cup',\n",
       " 'cup',\n",
       " 'None']"
      ]
     },
     "execution_count": 27,
     "metadata": {},
     "output_type": "execute_result"
    }
   ],
   "source": [
    "measure"
   ]
  },
  {
   "cell_type": "code",
   "execution_count": null,
   "metadata": {},
   "outputs": [],
   "source": []
  }
 ],
 "metadata": {
  "kernelspec": {
   "display_name": "Python 3",
   "language": "python",
   "name": "python3"
  },
  "language_info": {
   "codemirror_mode": {
    "name": "ipython",
    "version": 3
   },
   "file_extension": ".py",
   "mimetype": "text/x-python",
   "name": "python",
   "nbconvert_exporter": "python",
   "pygments_lexer": "ipython3",
   "version": "3.7.6"
  }
 },
 "nbformat": 4,
 "nbformat_minor": 2
}
