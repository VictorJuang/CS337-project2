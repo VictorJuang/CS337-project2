{
 "cells": [
  {
   "cell_type": "code",
   "execution_count": 1,
   "metadata": {},
   "outputs": [],
   "source": [
    "from bs4 import BeautifulSoup\n",
    "import urllib.parse\n",
    "import urllib.request\n",
    "import re\n",
    "#url = \"https://www.allrecipes.com/recipe/273326/parmesan-crusted-shrimp-scampi-with-pasta/?internalSource=previously%20viewed&referringContentType=Homepage&clickId=cardslot%202\"\n",
    "url = \"https://www.allrecipes.com/recipe/277917/slow-cooker-cheesy-cauliflower-casserole/?internalSource=popular&referringContentType=Homepage&clickId=cardslot%205\"\n",
    "req = urllib.request.Request(url)\n",
    "req.add_header('Cookie', 'euConsent=true')\n",
    "\n",
    "html_content = urllib.request.urlopen(req).read()\n",
    "soup = BeautifulSoup(html_content, 'html.parser')"
   ]
  },
  {
   "cell_type": "code",
   "execution_count": 2,
   "metadata": {},
   "outputs": [],
   "source": [
    "ingredient_pattern = re.compile(r'itemprop=\"recipeIngredient\">(?:(?!itemprop=\"recipeIngredient\">|<\\/span>)[\\s\\S])*<\\/span>')\n",
    "\n",
    "#ingredients = re.findall(ingredient_pattern, 'itemprop=\"recipeIngredient\">1/4 cup chicken broth</span>')\n",
    "ingredients = re.findall(ingredient_pattern, str(soup))"
   ]
  },
  {
   "cell_type": "code",
   "execution_count": 3,
   "metadata": {},
   "outputs": [
    {
     "data": {
      "text/plain": [
       "['itemprop=\"recipeIngredient\">3 slices bacon</span>',\n",
       " 'itemprop=\"recipeIngredient\">nonstick cooking spray</span>',\n",
       " 'itemprop=\"recipeIngredient\">1 medium head cauliflower, cut into florets</span>',\n",
       " 'itemprop=\"recipeIngredient\">1/4 cup chicken broth</span>',\n",
       " 'itemprop=\"recipeIngredient\">1/2 teaspoon salt</span>',\n",
       " 'itemprop=\"recipeIngredient\">1/4 teaspoon pepper</span>',\n",
       " 'itemprop=\"recipeIngredient\">1/4 teaspoon ground turmeric (optional)</span>',\n",
       " 'itemprop=\"recipeIngredient\">1 (10.75 ounce) can cream of chicken soup (such as Campbell\\'s®)</span>',\n",
       " 'itemprop=\"recipeIngredient\">1/2 cup shredded mozzarella cheese</span>',\n",
       " 'itemprop=\"recipeIngredient\">1/2 cup shredded Cheddar cheese</span>',\n",
       " 'itemprop=\"recipeIngredient\">1 scallion, green part only, thinly sliced</span>']"
      ]
     },
     "execution_count": 3,
     "metadata": {},
     "output_type": "execute_result"
    }
   ],
   "source": [
    "ingredients"
   ]
  },
  {
   "cell_type": "code",
   "execution_count": null,
   "metadata": {},
   "outputs": [],
   "source": []
  },
  {
   "cell_type": "code",
   "execution_count": 4,
   "metadata": {},
   "outputs": [
    {
     "data": {
      "text/plain": [
       "11"
      ]
     },
     "execution_count": 4,
     "metadata": {},
     "output_type": "execute_result"
    }
   ],
   "source": [
    "len(ingredients)"
   ]
  },
  {
   "cell_type": "code",
   "execution_count": 5,
   "metadata": {},
   "outputs": [
    {
     "name": "stdout",
     "output_type": "stream",
     "text": [
      "itemprop=\"recipeIngredient\">3 slices bacon</span>\n",
      "itemprop=\"recipeIngredient\">nonstick cooking spray</span>\n",
      "itemprop=\"recipeIngredient\">1 medium head cauliflower, cut into florets</span>\n",
      "itemprop=\"recipeIngredient\">1/4 cup chicken broth</span>\n",
      "itemprop=\"recipeIngredient\">1/2 teaspoon salt</span>\n",
      "itemprop=\"recipeIngredient\">1/4 teaspoon pepper</span>\n",
      "itemprop=\"recipeIngredient\">1/4 teaspoon ground turmeric (optional)</span>\n",
      "itemprop=\"recipeIngredient\">1 (10.75 ounce) can cream of chicken soup (such as Campbell's®)</span>\n",
      "itemprop=\"recipeIngredient\">1/2 cup shredded mozzarella cheese</span>\n",
      "itemprop=\"recipeIngredient\">1/2 cup shredded Cheddar cheese</span>\n",
      "itemprop=\"recipeIngredient\">1 scallion, green part only, thinly sliced</span>\n"
     ]
    }
   ],
   "source": [
    "update_ingredient = []\n",
    "\n",
    "for i in range(len(ingredients)):\n",
    "    print (ingredients[i])\n",
    "    update_ingredient.append(ingredients[i][28:-7])"
   ]
  },
  {
   "cell_type": "code",
   "execution_count": 6,
   "metadata": {},
   "outputs": [
    {
     "data": {
      "text/plain": [
       "['3 slices bacon',\n",
       " 'nonstick cooking spray',\n",
       " '1 medium head cauliflower, cut into florets',\n",
       " '1/4 cup chicken broth',\n",
       " '1/2 teaspoon salt',\n",
       " '1/4 teaspoon pepper',\n",
       " '1/4 teaspoon ground turmeric (optional)',\n",
       " \"1 (10.75 ounce) can cream of chicken soup (such as Campbell's®)\",\n",
       " '1/2 cup shredded mozzarella cheese',\n",
       " '1/2 cup shredded Cheddar cheese',\n",
       " '1 scallion, green part only, thinly sliced']"
      ]
     },
     "execution_count": 6,
     "metadata": {},
     "output_type": "execute_result"
    }
   ],
   "source": [
    "update_ingredient"
   ]
  },
  {
   "cell_type": "code",
   "execution_count": 7,
   "metadata": {},
   "outputs": [],
   "source": [
    "measurement = ['slice', 'slices', 'can', 'cans', 'teaspoon', 'tablespoon', 'cup', 'ounce', 'pint', 'quart', 'gallon', 'pound', 'dash', 'pinch', 'drop', 'peck', 'smidgen', 'saltspoon', 'scruple', 'coffeespoon', 'dessertspoon', 'wineglass', 'gill', 'teacup', 'pottle', 'dram', 'teaspoons', 'tablespoons', 'cups', 'ounces', 'pints', 'quarts', 'gallons', 'pounds', 'dashes', 'pinches', 'drops', 'pecks', 'smidgens', 'saltspoons', 'scruples', 'coffeespoons', 'dessertspoons', 'wineglasses', 'gills', 'teacups', 'pottles', 'drams']"
   ]
  },
  {
   "cell_type": "code",
   "execution_count": 8,
   "metadata": {},
   "outputs": [
    {
     "data": {
      "text/plain": [
       "48"
      ]
     },
     "execution_count": 8,
     "metadata": {},
     "output_type": "execute_result"
    }
   ],
   "source": [
    "len(measurement)"
   ]
  },
  {
   "cell_type": "code",
   "execution_count": 9,
   "metadata": {},
   "outputs": [
    {
     "name": "stdout",
     "output_type": "stream",
     "text": [
      "['1']\n",
      "['1']\n"
     ]
    }
   ],
   "source": [
    "measure = []\n",
    "ingred = []\n",
    "quantity = []\n",
    "for i in range(len(update_ingredient)):\n",
    "    flag = True\n",
    "    for item in measurement:\n",
    "        if item in update_ingredient[i].lower().split():\n",
    "            measure.append(item)\n",
    "            ing_quant = update_ingredient[i].split(' '+item+' ')\n",
    "            ingred.append(ing_quant[1])\n",
    "            quantity.append(ing_quant[0])\n",
    "            flag = False\n",
    "            break\n",
    "    if flag:\n",
    "        measure.append(\"None\")\n",
    "        num_pattern = re.compile(r'\\d+\\/\\d+|\\d+')\n",
    "        quan = re.findall(num_pattern, update_ingredient[i]) # only care about the first item, quant always shows at the beginning\n",
    "        if quan:\n",
    "            print (quan)\n",
    "            quantity.append(quan[0])\n",
    "            ingred.append(re.sub(quan[0]+' ', '', update_ingredient[i]))\n",
    "        else:\n",
    "            ingred.append(update_ingredient[i])\n",
    "            \n",
    "        \n",
    "        "
   ]
  },
  {
   "cell_type": "code",
   "execution_count": 10,
   "metadata": {},
   "outputs": [
    {
     "data": {
      "text/plain": [
       "['slices',\n",
       " 'None',\n",
       " 'None',\n",
       " 'cup',\n",
       " 'teaspoon',\n",
       " 'teaspoon',\n",
       " 'teaspoon',\n",
       " 'can',\n",
       " 'cup',\n",
       " 'cup',\n",
       " 'None']"
      ]
     },
     "execution_count": 10,
     "metadata": {},
     "output_type": "execute_result"
    }
   ],
   "source": [
    "measure"
   ]
  },
  {
   "cell_type": "code",
   "execution_count": 11,
   "metadata": {},
   "outputs": [
    {
     "data": {
      "text/plain": [
       "['bacon',\n",
       " 'nonstick cooking spray',\n",
       " 'medium head cauliflower, cut into florets',\n",
       " 'chicken broth',\n",
       " 'salt',\n",
       " 'pepper',\n",
       " 'ground turmeric (optional)',\n",
       " \"cream of chicken soup (such as Campbell's®)\",\n",
       " 'shredded mozzarella cheese',\n",
       " 'shredded Cheddar cheese',\n",
       " 'scallion, green part only, thinly sliced']"
      ]
     },
     "execution_count": 11,
     "metadata": {},
     "output_type": "execute_result"
    }
   ],
   "source": [
    "ingred"
   ]
  },
  {
   "cell_type": "code",
   "execution_count": 12,
   "metadata": {},
   "outputs": [
    {
     "data": {
      "text/plain": [
       "['3', '1', '1/4', '1/2', '1/4', '1/4', '1 (10.75 ounce)', '1/2', '1/2', '1']"
      ]
     },
     "execution_count": 12,
     "metadata": {},
     "output_type": "execute_result"
    }
   ],
   "source": [
    "quantity"
   ]
  },
  {
   "cell_type": "code",
   "execution_count": 13,
   "metadata": {},
   "outputs": [
    {
     "name": "stdout",
     "output_type": "stream",
     "text": [
      "['medium head cauliflower', 'cut into florets']\n",
      "['scallion', 'green part only', 'thinly sliced']\n"
     ]
    }
   ],
   "source": [
    "Descriptor = []\n",
    "Preparation = []\n",
    "refined_ingred = []\n",
    "for item in ingred:\n",
    "    ss = item.split(', ')\n",
    "    if ss[0] != item:\n",
    "        print (ss)\n",
    "        refined_ingred.append(ss[0])\n",
    "        Preparation.append(ss[1:])\n",
    "    else:\n",
    "        Preparation.append('None')\n",
    "        refined_ingred.append(item)"
   ]
  },
  {
   "cell_type": "code",
   "execution_count": 14,
   "metadata": {},
   "outputs": [
    {
     "data": {
      "text/plain": [
       "['bacon',\n",
       " 'nonstick cooking spray',\n",
       " 'medium head cauliflower',\n",
       " 'chicken broth',\n",
       " 'salt',\n",
       " 'pepper',\n",
       " 'ground turmeric (optional)',\n",
       " \"cream of chicken soup (such as Campbell's®)\",\n",
       " 'shredded mozzarella cheese',\n",
       " 'shredded Cheddar cheese',\n",
       " 'scallion']"
      ]
     },
     "execution_count": 14,
     "metadata": {},
     "output_type": "execute_result"
    }
   ],
   "source": [
    "refined_ingred"
   ]
  },
  {
   "cell_type": "code",
   "execution_count": 15,
   "metadata": {},
   "outputs": [
    {
     "data": {
      "text/plain": [
       "['None',\n",
       " 'None',\n",
       " ['cut into florets'],\n",
       " 'None',\n",
       " 'None',\n",
       " 'None',\n",
       " 'None',\n",
       " 'None',\n",
       " 'None',\n",
       " 'None',\n",
       " ['green part only', 'thinly sliced']]"
      ]
     },
     "execution_count": 15,
     "metadata": {},
     "output_type": "execute_result"
    }
   ],
   "source": [
    "Preparation"
   ]
  },
  {
   "cell_type": "code",
   "execution_count": null,
   "metadata": {},
   "outputs": [],
   "source": []
  }
 ],
 "metadata": {
  "kernelspec": {
   "display_name": "Python 3",
   "language": "python",
   "name": "python3"
  },
  "language_info": {
   "codemirror_mode": {
    "name": "ipython",
    "version": 3
   },
   "file_extension": ".py",
   "mimetype": "text/x-python",
   "name": "python",
   "nbconvert_exporter": "python",
   "pygments_lexer": "ipython3",
   "version": "3.7.6"
  }
 },
 "nbformat": 4,
 "nbformat_minor": 2
}
