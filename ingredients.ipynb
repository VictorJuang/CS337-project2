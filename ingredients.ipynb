{
 "cells": [
  {
   "cell_type": "code",
   "execution_count": 1,
   "metadata": {},
   "outputs": [],
   "source": [
    "from bs4 import BeautifulSoup\n",
    "import urllib.parse\n",
    "import urllib.request\n",
    "import re\n",
    "url = \"https://www.allrecipes.com/recipe/15925/creamy-au-gratin-potatoes/\"\n",
    "#url = \"https://www.allrecipes.com/recipe/277943/slow-cooker-loaded-potato-soup/?internalSource=previously%20viewed&referringContentType=Homepage&clickId=cardslot%2018\"\n",
    "#url = \"https://www.allrecipes.com/recipe/273326/parmesan-crusted-shrimp-scampi-with-pasta/?internalSource=previously%20viewed&referringContentType=Homepage&clickId=cardslot%202\"\n",
    "#url = \"https://www.allrecipes.com/recipe/277917/slow-cooker-cheesy-cauliflower-casserole/?internalSource=popular&referringContentType=Homepage&clickId=cardslot%205\"\n",
    "req = urllib.request.Request(url)\n",
    "req.add_header('Cookie', 'euConsent=true')\n",
    "\n",
    "html_content = urllib.request.urlopen(req).read()\n",
    "soup = BeautifulSoup(html_content, 'html.parser')"
   ]
  },
  {
   "cell_type": "code",
   "execution_count": 2,
   "metadata": {},
   "outputs": [],
   "source": [
    "ingredient_pattern = re.compile(r'itemprop=\"recipeIngredient\">(?:(?!itemprop=\"recipeIngredient\">|<\\/span>)[\\s\\S])*<\\/span>')\n",
    "\n",
    "#ingredients = re.findall(ingredient_pattern, 'itemprop=\"recipeIngredient\">1/4 cup chicken broth</span>')\n",
    "ingredients = re.findall(ingredient_pattern, str(soup))"
   ]
  },
  {
   "cell_type": "code",
   "execution_count": 3,
   "metadata": {},
   "outputs": [
    {
     "data": {
      "text/plain": [
       "['itemprop=\"recipeIngredient\">4 russet potatoes, sliced into 1/4 inch slices</span>',\n",
       " 'itemprop=\"recipeIngredient\">1 onion, sliced into rings</span>',\n",
       " 'itemprop=\"recipeIngredient\">salt and pepper to taste</span>',\n",
       " 'itemprop=\"recipeIngredient\">3 tablespoons butter</span>',\n",
       " 'itemprop=\"recipeIngredient\">3 tablespoons all-purpose flour</span>',\n",
       " 'itemprop=\"recipeIngredient\">1/2 teaspoon salt</span>',\n",
       " 'itemprop=\"recipeIngredient\">2 cups milk</span>',\n",
       " 'itemprop=\"recipeIngredient\">1 1/2 cups shredded Cheddar cheese</span>']"
      ]
     },
     "execution_count": 3,
     "metadata": {},
     "output_type": "execute_result"
    }
   ],
   "source": [
    "ingredients"
   ]
  },
  {
   "cell_type": "code",
   "execution_count": null,
   "metadata": {},
   "outputs": [],
   "source": []
  },
  {
   "cell_type": "code",
   "execution_count": 4,
   "metadata": {},
   "outputs": [
    {
     "data": {
      "text/plain": [
       "8"
      ]
     },
     "execution_count": 4,
     "metadata": {},
     "output_type": "execute_result"
    }
   ],
   "source": [
    "len(ingredients)"
   ]
  },
  {
   "cell_type": "code",
   "execution_count": 5,
   "metadata": {},
   "outputs": [
    {
     "name": "stdout",
     "output_type": "stream",
     "text": [
      "itemprop=\"recipeIngredient\">4 russet potatoes, sliced into 1/4 inch slices</span>\n",
      "itemprop=\"recipeIngredient\">1 onion, sliced into rings</span>\n",
      "itemprop=\"recipeIngredient\">salt and pepper to taste</span>\n",
      "itemprop=\"recipeIngredient\">3 tablespoons butter</span>\n",
      "itemprop=\"recipeIngredient\">3 tablespoons all-purpose flour</span>\n",
      "itemprop=\"recipeIngredient\">1/2 teaspoon salt</span>\n",
      "itemprop=\"recipeIngredient\">2 cups milk</span>\n",
      "itemprop=\"recipeIngredient\">1 1/2 cups shredded Cheddar cheese</span>\n"
     ]
    }
   ],
   "source": [
    "update_ingredient = []\n",
    "\n",
    "for i in range(len(ingredients)):\n",
    "    print (ingredients[i])\n",
    "    update_ingredient.append(ingredients[i][28:-7])"
   ]
  },
  {
   "cell_type": "code",
   "execution_count": 6,
   "metadata": {},
   "outputs": [
    {
     "data": {
      "text/plain": [
       "['4 russet potatoes, sliced into 1/4 inch slices',\n",
       " '1 onion, sliced into rings',\n",
       " 'salt and pepper to taste',\n",
       " '3 tablespoons butter',\n",
       " '3 tablespoons all-purpose flour',\n",
       " '1/2 teaspoon salt',\n",
       " '2 cups milk',\n",
       " '1 1/2 cups shredded Cheddar cheese']"
      ]
     },
     "execution_count": 6,
     "metadata": {},
     "output_type": "execute_result"
    }
   ],
   "source": [
    "update_ingredient"
   ]
  },
  {
   "cell_type": "code",
   "execution_count": 7,
   "metadata": {},
   "outputs": [],
   "source": [
    "measurement = ['package', 'packages', 'carton', 'cartons', 'slice', 'slices', 'can', 'cans', 'teaspoon', 'tablespoon', 'cup', 'ounce', 'pint', 'quart', 'gallon', 'pound', 'dash', 'pinch', 'drop', 'peck', 'smidgen', 'saltspoon', 'scruple', 'coffeespoon', 'dessertspoon', 'wineglass', 'gill', 'teacup', 'pottle', 'dram', 'teaspoons', 'tablespoons', 'cups', 'ounces', 'pints', 'quarts', 'gallons', 'pounds', 'dashes', 'pinches', 'drops', 'pecks', 'smidgens', 'saltspoons', 'scruples', 'coffeespoons', 'dessertspoons', 'wineglasses', 'gills', 'teacups', 'pottles', 'drams']"
   ]
  },
  {
   "cell_type": "code",
   "execution_count": 8,
   "metadata": {},
   "outputs": [
    {
     "data": {
      "text/plain": [
       "52"
      ]
     },
     "execution_count": 8,
     "metadata": {},
     "output_type": "execute_result"
    }
   ],
   "source": [
    "len(measurement)"
   ]
  },
  {
   "cell_type": "code",
   "execution_count": 9,
   "metadata": {},
   "outputs": [
    {
     "name": "stdout",
     "output_type": "stream",
     "text": [
      "['4', '1/4']\n",
      "['1']\n"
     ]
    }
   ],
   "source": [
    "measure = []\n",
    "ingred = []\n",
    "quantity = []\n",
    "for i in range(len(update_ingredient)):\n",
    "    flag = True\n",
    "    for item in measurement:\n",
    "        if item in update_ingredient[i].lower().split():\n",
    "            measure.append(item)\n",
    "            ing_quant = update_ingredient[i].split(' '+item+' ')\n",
    "            try: \n",
    "                ingred.append(ing_quant[1])\n",
    "            except:\n",
    "                flag = True\n",
    "                break\n",
    "            quantity.append(ing_quant[0])\n",
    "            flag = False\n",
    "            break\n",
    "    if flag:\n",
    "        measure.append(\"None\")\n",
    "        num_pattern = re.compile(r'\\d+\\/\\d+|\\d+')\n",
    "        quan = re.findall(num_pattern, update_ingredient[i]) # only care about the first item, quant always shows at the beginning\n",
    "        if quan:\n",
    "            print (quan)\n",
    "            quantity.append(quan[0])\n",
    "            ingred.append(re.sub(quan[0]+' ', '', update_ingredient[i]))\n",
    "        else:\n",
    "            ingred.append(update_ingredient[i])\n",
    "            \n",
    "        \n",
    "        "
   ]
  },
  {
   "cell_type": "code",
   "execution_count": 10,
   "metadata": {},
   "outputs": [
    {
     "data": {
      "text/plain": [
       "['slices',\n",
       " 'None',\n",
       " 'None',\n",
       " 'None',\n",
       " 'tablespoons',\n",
       " 'tablespoons',\n",
       " 'teaspoon',\n",
       " 'cups',\n",
       " 'cups']"
      ]
     },
     "execution_count": 10,
     "metadata": {},
     "output_type": "execute_result"
    }
   ],
   "source": [
    "measure"
   ]
  },
  {
   "cell_type": "code",
   "execution_count": 11,
   "metadata": {},
   "outputs": [
    {
     "data": {
      "text/plain": [
       "['russet potatoes, sliced into 1/inch slices',\n",
       " 'onion, sliced into rings',\n",
       " 'salt and pepper to taste',\n",
       " 'butter',\n",
       " 'all-purpose flour',\n",
       " 'salt',\n",
       " 'milk',\n",
       " 'shredded Cheddar cheese']"
      ]
     },
     "execution_count": 11,
     "metadata": {},
     "output_type": "execute_result"
    }
   ],
   "source": [
    "ingred"
   ]
  },
  {
   "cell_type": "code",
   "execution_count": 12,
   "metadata": {},
   "outputs": [
    {
     "data": {
      "text/plain": [
       "['4', '1', '3', '3', '1/2', '2', '1 1/2']"
      ]
     },
     "execution_count": 12,
     "metadata": {},
     "output_type": "execute_result"
    }
   ],
   "source": [
    "quantity"
   ]
  },
  {
   "cell_type": "code",
   "execution_count": 13,
   "metadata": {},
   "outputs": [
    {
     "name": "stdout",
     "output_type": "stream",
     "text": [
      "['russet potatoes', 'sliced into 1/inch slices']\n",
      "['onion', 'sliced into rings']\n"
     ]
    }
   ],
   "source": [
    "Descriptor = []\n",
    "Preparation = []\n",
    "refined_ingred = []\n",
    "for item in ingred:\n",
    "    ss = item.split(', ')\n",
    "    if ss[0] != item:\n",
    "        print (ss)\n",
    "        refined_ingred.append(ss[0])\n",
    "        Preparation.append(ss[1:])\n",
    "    else:\n",
    "        Preparation.append('None')\n",
    "        refined_ingred.append(item)"
   ]
  },
  {
   "cell_type": "code",
   "execution_count": 14,
   "metadata": {},
   "outputs": [
    {
     "data": {
      "text/plain": [
       "['russet potatoes',\n",
       " 'onion',\n",
       " 'salt and pepper to taste',\n",
       " 'butter',\n",
       " 'all-purpose flour',\n",
       " 'salt',\n",
       " 'milk',\n",
       " 'shredded Cheddar cheese']"
      ]
     },
     "execution_count": 14,
     "metadata": {},
     "output_type": "execute_result"
    }
   ],
   "source": [
    "refined_ingred"
   ]
  },
  {
   "cell_type": "code",
   "execution_count": 15,
   "metadata": {},
   "outputs": [
    {
     "data": {
      "text/plain": [
       "[['sliced into 1/inch slices'],\n",
       " ['sliced into rings'],\n",
       " 'None',\n",
       " 'None',\n",
       " 'None',\n",
       " 'None',\n",
       " 'None',\n",
       " 'None']"
      ]
     },
     "execution_count": 15,
     "metadata": {},
     "output_type": "execute_result"
    }
   ],
   "source": [
    "Preparation"
   ]
  },
  {
   "cell_type": "markdown",
   "metadata": {},
   "source": [
    "### nutrition"
   ]
  },
  {
   "cell_type": "code",
   "execution_count": 17,
   "metadata": {},
   "outputs": [
    {
     "name": "stdout",
     "output_type": "stream",
     "text": [
      "https://www.allrecipes.com/recipe/15925/creamy-au-gratin-potatoes/\n",
      "[{'nutrient-name': 'Total Fat', 'nutrient-value': '25.4', 'nutrient-unit': 'g', 'daily-value': '39 %'}, {'nutrient-name': 'Saturated Fat', 'nutrient-value': '16.0', 'nutrient-unit': 'g'}, {'nutrient-name': 'Cholesterol', 'nutrient-value': '77', 'nutrient-unit': 'mg', 'daily-value': '26 %'}, {'nutrient-name': 'Sodium', 'nutrient-value': '683', 'nutrient-unit': 'mg', 'daily-value': '27 %'}, {'nutrient-name': 'Potassium', 'nutrient-value': '1184', 'nutrient-unit': 'mg', 'daily-value': '33 %'}, {'nutrient-name': 'Total Carbohydrates', 'nutrient-value': '49.3', 'nutrient-unit': 'g', 'daily-value': '16 %'}, {'nutrient-name': 'Dietary Fiber', 'nutrient-value': '4.4', 'nutrient-unit': 'g', 'daily-value': '17 %'}, {'nutrient-name': 'Protein', 'nutrient-value': '19.8', 'nutrient-unit': 'g', 'daily-value': '40 %'}, {'nutrient-name': 'Sugars', 'nutrient-value': '9', 'nutrient-unit': 'g'}, {'nutrient-name': 'Vitamin A', 'nutrient-value': '939', 'nutrient-unit': 'IU'}, {'nutrient-name': 'Vitamin C', 'nutrient-value': '19', 'nutrient-unit': 'mg'}, {'nutrient-name': 'Calcium', 'nutrient-value': '484', 'nutrient-unit': 'mg'}, {'nutrient-name': 'Iron', 'nutrient-value': '2', 'nutrient-unit': 'mg'}, {'nutrient-name': 'Thiamin', 'nutrient-value': '0', 'nutrient-unit': 'mg'}, {'nutrient-name': 'Niacin', 'nutrient-value': '7', 'nutrient-unit': 'mg'}, {'nutrient-name': 'Vitamin B6', 'nutrient-value': '1', 'nutrient-unit': 'mg'}, {'nutrient-name': 'Magnesium', 'nutrient-value': '77', 'nutrient-unit': 'mg'}, {'nutrient-name': 'Folate', 'nutrient-value': '78', 'nutrient-unit': 'mcg'}]\n"
     ]
    }
   ],
   "source": [
    "import requests\n",
    "def splitUnit(string):\n",
    "    for idx in range(len(string)):\n",
    "        if not string[idx].isnumeric() and string[idx] != \".\" and string[idx] != \"/\":\n",
    "            return string[:idx], string[idx:]\n",
    "        \n",
    "def scrape_nutrition(recipe_url):\n",
    "        all_res = []\n",
    "        # recipe_url.replace(\"?internalSource=hub%20recipe&referringId=86&referringContentType=Recipe%20Hub\", \"\")\n",
    "        # print (recipe_url)\n",
    "        page_html = requests.get(recipe_url + \"fullrecipenutrition/\")\n",
    "        page_graph = BeautifulSoup(page_html.content, \"lxml\")\n",
    "\n",
    "        for row in page_graph.find_all(\"div\", {\"class\":\"nutrition-row\"}):\n",
    "            res = {}\n",
    "            for span in row.find_all(\"span\"):\n",
    "                if span.get(\"class\"):\n",
    "                    key = span.get(\"class\")[0]\n",
    "                    val = span.text.split(\":\")[0]\n",
    "                    if key == \"nutrient-value\":\n",
    "                        res[key] = splitUnit(val)[0]\n",
    "                        res[\"nutrient-unit\"] = splitUnit(val)[1]\n",
    "                    else:\n",
    "                        res[key] = val\n",
    "            all_res.append(res)\n",
    "        \n",
    "        return all_res\n",
    "\n",
    "print(scrape_nutrition(url))"
   ]
  },
  {
   "cell_type": "code",
   "execution_count": null,
   "metadata": {},
   "outputs": [],
   "source": []
  }
 ],
 "metadata": {
  "kernelspec": {
   "display_name": "Python 3",
   "language": "python",
   "name": "python3"
  },
  "language_info": {
   "codemirror_mode": {
    "name": "ipython",
    "version": 3
   },
   "file_extension": ".py",
   "mimetype": "text/x-python",
   "name": "python",
   "nbconvert_exporter": "python",
   "pygments_lexer": "ipython3",
   "version": "3.7.6"
  }
 },
 "nbformat": 4,
 "nbformat_minor": 2
}
